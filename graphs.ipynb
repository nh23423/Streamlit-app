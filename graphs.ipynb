{
 "cells": [
  {
   "cell_type": "code",
   "execution_count": 131,
   "metadata": {},
   "outputs": [],
   "source": [
    "import pandas as pd\n",
    "import numpy as np\n",
    "import plotly.express as px"
   ]
  },
  {
   "cell_type": "code",
   "execution_count": 132,
   "metadata": {},
   "outputs": [],
   "source": [
    "path = '../data/raw/EventSalesReportDetailed-2024-02-29T12_29_51.csv'"
   ]
  },
  {
   "cell_type": "code",
   "execution_count": 133,
   "metadata": {},
   "outputs": [
    {
     "name": "stdout",
     "output_type": "stream",
     "text": [
      "<class 'pandas.core.frame.DataFrame'>\n",
      "RangeIndex: 12975 entries, 0 to 12974\n",
      "Data columns (total 14 columns):\n",
      " #   Column              Non-Null Count  Dtype  \n",
      "---  ------              --------------  -----  \n",
      " 0   Event Name          12975 non-null  object \n",
      " 1   Event Date/Time     12975 non-null  object \n",
      " 2   Is Comp             10158 non-null  float64\n",
      " 3   Seat Status         12975 non-null  object \n",
      " 4   Ticket Type         10158 non-null  object \n",
      " 5   Ticket Band         10158 non-null  object \n",
      " 6   Lock Type           1541 non-null   object \n",
      " 7   Sales Channel       10158 non-null  object \n",
      " 8   User Confirmed      10158 non-null  object \n",
      " 9   Price Overridden    10158 non-null  object \n",
      " 10  Area                12975 non-null  object \n",
      " 11  Sum of Price        10158 non-null  float64\n",
      " 12  Sum of Gross Value  12975 non-null  float64\n",
      " 13  Count               12975 non-null  int64  \n",
      "dtypes: float64(3), int64(1), object(10)\n",
      "memory usage: 1.4+ MB\n"
     ]
    },
    {
     "data": {
      "text/html": [
       "<div>\n",
       "<style scoped>\n",
       "    .dataframe tbody tr th:only-of-type {\n",
       "        vertical-align: middle;\n",
       "    }\n",
       "\n",
       "    .dataframe tbody tr th {\n",
       "        vertical-align: top;\n",
       "    }\n",
       "\n",
       "    .dataframe thead th {\n",
       "        text-align: right;\n",
       "    }\n",
       "</style>\n",
       "<table border=\"1\" class=\"dataframe\">\n",
       "  <thead>\n",
       "    <tr style=\"text-align: right;\">\n",
       "      <th></th>\n",
       "      <th>Event Name</th>\n",
       "      <th>Event Date/Time</th>\n",
       "      <th>Is Comp</th>\n",
       "      <th>Seat Status</th>\n",
       "      <th>Ticket Type</th>\n",
       "      <th>Ticket Band</th>\n",
       "      <th>Lock Type</th>\n",
       "      <th>Sales Channel</th>\n",
       "      <th>User Confirmed</th>\n",
       "      <th>Price Overridden</th>\n",
       "      <th>Area</th>\n",
       "      <th>Sum of Price</th>\n",
       "      <th>Sum of Gross Value</th>\n",
       "      <th>Count</th>\n",
       "    </tr>\n",
       "  </thead>\n",
       "  <tbody>\n",
       "    <tr>\n",
       "      <th>0</th>\n",
       "      <td>1012 Raghu Dixit</td>\n",
       "      <td>10/07/2023 19:30</td>\n",
       "      <td>NaN</td>\n",
       "      <td>Available</td>\n",
       "      <td>NaN</td>\n",
       "      <td>NaN</td>\n",
       "      <td>NaN</td>\n",
       "      <td>NaN</td>\n",
       "      <td>NaN</td>\n",
       "      <td>NaN</td>\n",
       "      <td>Main Hall</td>\n",
       "      <td>NaN</td>\n",
       "      <td>4360.0</td>\n",
       "      <td>218</td>\n",
       "    </tr>\n",
       "    <tr>\n",
       "      <th>1</th>\n",
       "      <td>1012 Raghu Dixit</td>\n",
       "      <td>10/07/2023 19:30</td>\n",
       "      <td>NaN</td>\n",
       "      <td>Locked</td>\n",
       "      <td>NaN</td>\n",
       "      <td>NaN</td>\n",
       "      <td>General</td>\n",
       "      <td>NaN</td>\n",
       "      <td>NaN</td>\n",
       "      <td>NaN</td>\n",
       "      <td>Main Hall</td>\n",
       "      <td>NaN</td>\n",
       "      <td>5000.0</td>\n",
       "      <td>250</td>\n",
       "    </tr>\n",
       "    <tr>\n",
       "      <th>2</th>\n",
       "      <td>1012 Raghu Dixit</td>\n",
       "      <td>10/07/2023 19:30</td>\n",
       "      <td>0.0</td>\n",
       "      <td>Sold</td>\n",
       "      <td>Full Price</td>\n",
       "      <td>Price band A</td>\n",
       "      <td>NaN</td>\n",
       "      <td>Counter</td>\n",
       "      <td>chloe.thomas</td>\n",
       "      <td>False</td>\n",
       "      <td>Main Hall</td>\n",
       "      <td>160.0</td>\n",
       "      <td>160.0</td>\n",
       "      <td>8</td>\n",
       "    </tr>\n",
       "    <tr>\n",
       "      <th>3</th>\n",
       "      <td>1012 Raghu Dixit</td>\n",
       "      <td>10/07/2023 19:30</td>\n",
       "      <td>0.0</td>\n",
       "      <td>Sold</td>\n",
       "      <td>Full Price</td>\n",
       "      <td>Price band A</td>\n",
       "      <td>NaN</td>\n",
       "      <td>Counter</td>\n",
       "      <td>katina.kilkelly</td>\n",
       "      <td>False</td>\n",
       "      <td>Main Hall</td>\n",
       "      <td>160.0</td>\n",
       "      <td>160.0</td>\n",
       "      <td>8</td>\n",
       "    </tr>\n",
       "    <tr>\n",
       "      <th>4</th>\n",
       "      <td>1012 Raghu Dixit</td>\n",
       "      <td>10/07/2023 19:30</td>\n",
       "      <td>0.0</td>\n",
       "      <td>Sold</td>\n",
       "      <td>Full Price</td>\n",
       "      <td>Price band A</td>\n",
       "      <td>NaN</td>\n",
       "      <td>Counter</td>\n",
       "      <td>Luke</td>\n",
       "      <td>False</td>\n",
       "      <td>Main Hall</td>\n",
       "      <td>120.0</td>\n",
       "      <td>120.0</td>\n",
       "      <td>6</td>\n",
       "    </tr>\n",
       "  </tbody>\n",
       "</table>\n",
       "</div>"
      ],
      "text/plain": [
       "           Event Name   Event Date/Time  Is Comp Seat Status Ticket Type  \\\n",
       "0    1012 Raghu Dixit  10/07/2023 19:30      NaN   Available         NaN   \n",
       "1    1012 Raghu Dixit  10/07/2023 19:30      NaN      Locked         NaN   \n",
       "2    1012 Raghu Dixit  10/07/2023 19:30      0.0        Sold  Full Price   \n",
       "3    1012 Raghu Dixit  10/07/2023 19:30      0.0        Sold  Full Price   \n",
       "4    1012 Raghu Dixit  10/07/2023 19:30      0.0        Sold  Full Price   \n",
       "\n",
       "    Ticket Band Lock Type Sales Channel   User Confirmed Price Overridden  \\\n",
       "0           NaN       NaN           NaN              NaN              NaN   \n",
       "1           NaN   General           NaN              NaN              NaN   \n",
       "2  Price band A       NaN       Counter     chloe.thomas            False   \n",
       "3  Price band A       NaN       Counter  katina.kilkelly            False   \n",
       "4  Price band A       NaN       Counter             Luke            False   \n",
       "\n",
       "        Area  Sum of Price  Sum of Gross Value  Count  \n",
       "0  Main Hall           NaN              4360.0    218  \n",
       "1  Main Hall           NaN              5000.0    250  \n",
       "2  Main Hall         160.0               160.0      8  \n",
       "3  Main Hall         160.0               160.0      8  \n",
       "4  Main Hall         120.0               120.0      6  "
      ]
     },
     "execution_count": 133,
     "metadata": {},
     "output_type": "execute_result"
    }
   ],
   "source": [
    "df = pd.read_csv(path)\n",
    "df.info()\n",
    "df.head()"
   ]
  },
  {
   "cell_type": "code",
   "execution_count": 134,
   "metadata": {},
   "outputs": [],
   "source": [
    "df['Event Date/Time'] = pd.to_datetime(df['Event Date/Time'], format = '%d/%m/%Y %H:%M')\n",
    "df['Event Date'] = df['Event Date/Time'].dt.date\n",
    "df['Year'] = df['Event Date/Time'].dt.year\n",
    "df['Month'] = df['Event Date/Time'].dt.month"
   ]
  },
  {
   "cell_type": "code",
   "execution_count": null,
   "metadata": {},
   "outputs": [],
   "source": []
  },
  {
   "cell_type": "code",
   "execution_count": 136,
   "metadata": {},
   "outputs": [],
   "source": [
    "import pandas as pd\n",
    "from datetime import datetime\n",
    "\n",
    "# Get the current time\n",
    "current_time = datetime.now()\n",
    "\n",
    "# Filter the DataFrame to keep only rows with datetime values greater than or equal to the current time\n",
    "df_filtered = df[df['Event Date/Time'] >= current_time]\n",
    "\n"
   ]
  },
  {
   "cell_type": "code",
   "execution_count": 143,
   "metadata": {},
   "outputs": [
    {
     "data": {
      "text/html": [
       "<div>\n",
       "<style scoped>\n",
       "    .dataframe tbody tr th:only-of-type {\n",
       "        vertical-align: middle;\n",
       "    }\n",
       "\n",
       "    .dataframe tbody tr th {\n",
       "        vertical-align: top;\n",
       "    }\n",
       "\n",
       "    .dataframe thead th {\n",
       "        text-align: right;\n",
       "    }\n",
       "</style>\n",
       "<table border=\"1\" class=\"dataframe\">\n",
       "  <thead>\n",
       "    <tr style=\"text-align: right;\">\n",
       "      <th></th>\n",
       "      <th>Event Name</th>\n",
       "      <th>Event Date/Time</th>\n",
       "      <th>Is Comp</th>\n",
       "      <th>Seat Status</th>\n",
       "      <th>Ticket Type</th>\n",
       "      <th>Ticket Band</th>\n",
       "      <th>Lock Type</th>\n",
       "      <th>Sales Channel</th>\n",
       "      <th>User Confirmed</th>\n",
       "      <th>Price Overridden</th>\n",
       "      <th>Area</th>\n",
       "      <th>Sum of Price</th>\n",
       "      <th>Sum of Gross Value</th>\n",
       "      <th>Count</th>\n",
       "      <th>Event Date</th>\n",
       "      <th>Year</th>\n",
       "      <th>Month</th>\n",
       "    </tr>\n",
       "  </thead>\n",
       "  <tbody>\n",
       "    <tr>\n",
       "      <th>9538</th>\n",
       "      <td>Sack Sabbath</td>\n",
       "      <td>2024-04-26 19:00:00</td>\n",
       "      <td>NaN</td>\n",
       "      <td>Available</td>\n",
       "      <td>NaN</td>\n",
       "      <td>NaN</td>\n",
       "      <td>NaN</td>\n",
       "      <td>NaN</td>\n",
       "      <td>NaN</td>\n",
       "      <td>NaN</td>\n",
       "      <td>The Tree House</td>\n",
       "      <td>NaN</td>\n",
       "      <td>1302.0</td>\n",
       "      <td>84</td>\n",
       "      <td>2024-04-26</td>\n",
       "      <td>2024</td>\n",
       "      <td>4</td>\n",
       "    </tr>\n",
       "    <tr>\n",
       "      <th>9539</th>\n",
       "      <td>Sack Sabbath</td>\n",
       "      <td>2024-04-26 19:00:00</td>\n",
       "      <td>NaN</td>\n",
       "      <td>Locked</td>\n",
       "      <td>NaN</td>\n",
       "      <td>NaN</td>\n",
       "      <td>General</td>\n",
       "      <td>NaN</td>\n",
       "      <td>NaN</td>\n",
       "      <td>NaN</td>\n",
       "      <td>The Tree House</td>\n",
       "      <td>NaN</td>\n",
       "      <td>620.0</td>\n",
       "      <td>40</td>\n",
       "      <td>2024-04-26</td>\n",
       "      <td>2024</td>\n",
       "      <td>4</td>\n",
       "    </tr>\n",
       "    <tr>\n",
       "      <th>9540</th>\n",
       "      <td>Sack Sabbath</td>\n",
       "      <td>2024-04-26 19:00:00</td>\n",
       "      <td>0.0</td>\n",
       "      <td>Sold</td>\n",
       "      <td>Full Price</td>\n",
       "      <td>Price band A</td>\n",
       "      <td>NaN</td>\n",
       "      <td>Counter</td>\n",
       "      <td>olivia.dimery</td>\n",
       "      <td>False</td>\n",
       "      <td>The Tree House</td>\n",
       "      <td>15.5</td>\n",
       "      <td>15.5</td>\n",
       "      <td>1</td>\n",
       "      <td>2024-04-26</td>\n",
       "      <td>2024</td>\n",
       "      <td>4</td>\n",
       "    </tr>\n",
       "    <tr>\n",
       "      <th>9541</th>\n",
       "      <td>Sack Sabbath</td>\n",
       "      <td>2024-04-26 19:00:00</td>\n",
       "      <td>0.0</td>\n",
       "      <td>Sold</td>\n",
       "      <td>Full Price</td>\n",
       "      <td>Price band A</td>\n",
       "      <td>NaN</td>\n",
       "      <td>Web</td>\n",
       "      <td>web</td>\n",
       "      <td>False</td>\n",
       "      <td>The Tree House</td>\n",
       "      <td>387.5</td>\n",
       "      <td>387.5</td>\n",
       "      <td>25</td>\n",
       "      <td>2024-04-26</td>\n",
       "      <td>2024</td>\n",
       "      <td>4</td>\n",
       "    </tr>\n",
       "  </tbody>\n",
       "</table>\n",
       "</div>"
      ],
      "text/plain": [
       "        Event Name     Event Date/Time  Is Comp Seat Status Ticket Type  \\\n",
       "9538  Sack Sabbath 2024-04-26 19:00:00      NaN   Available         NaN   \n",
       "9539  Sack Sabbath 2024-04-26 19:00:00      NaN      Locked         NaN   \n",
       "9540  Sack Sabbath 2024-04-26 19:00:00      0.0        Sold  Full Price   \n",
       "9541  Sack Sabbath 2024-04-26 19:00:00      0.0        Sold  Full Price   \n",
       "\n",
       "       Ticket Band Lock Type Sales Channel User Confirmed Price Overridden  \\\n",
       "9538           NaN       NaN           NaN            NaN              NaN   \n",
       "9539           NaN   General           NaN            NaN              NaN   \n",
       "9540  Price band A       NaN       Counter  olivia.dimery            False   \n",
       "9541  Price band A       NaN           Web            web            False   \n",
       "\n",
       "                Area  Sum of Price  Sum of Gross Value  Count  Event Date  \\\n",
       "9538  The Tree House           NaN              1302.0     84  2024-04-26   \n",
       "9539  The Tree House           NaN               620.0     40  2024-04-26   \n",
       "9540  The Tree House          15.5                15.5      1  2024-04-26   \n",
       "9541  The Tree House         387.5               387.5     25  2024-04-26   \n",
       "\n",
       "      Year  Month  \n",
       "9538  2024      4  \n",
       "9539  2024      4  \n",
       "9540  2024      4  \n",
       "9541  2024      4  "
      ]
     },
     "execution_count": 143,
     "metadata": {},
     "output_type": "execute_result"
    }
   ],
   "source": [
    "df_filtered[df_filtered['Event Name'] == 'Sack Sabbath'].values_count()"
   ]
  },
  {
   "cell_type": "code",
   "execution_count": 156,
   "metadata": {},
   "outputs": [
    {
     "name": "stdout",
     "output_type": "stream",
     "text": [
      "[6240 2164 1754]\n"
     ]
    }
   ],
   "source": [
    "sales_channel_counts = df['Sales Channel'].value_counts()\n",
    "print(sales_channel_counts.values)"
   ]
  },
  {
   "cell_type": "code",
   "execution_count": 73,
   "metadata": {},
   "outputs": [],
   "source": [
    "from datetime import datetime\n",
    "\n",
    "df_future = df[(df['Event Date/Time'])>=datetime.now()]\n",
    "df_max = df_future[df_future['Seat Status'] !='Locked']\n",
    "df_current = df_future[df_future['Seat Status'] =='Sold']\n",
    "\n",
    "df_current = df_current.groupby(['Event Date/Time', 'Event Name']).agg({'Count': 'sum'}).reset_index()\n",
    "df_max = df_max.groupby(['Event Date/Time', 'Event Name']).agg({'Count': 'sum'}).reset_index()"
   ]
  },
  {
   "cell_type": "code",
   "execution_count": 108,
   "metadata": {},
   "outputs": [
    {
     "data": {
      "text/html": [
       "<div>\n",
       "<style scoped>\n",
       "    .dataframe tbody tr th:only-of-type {\n",
       "        vertical-align: middle;\n",
       "    }\n",
       "\n",
       "    .dataframe tbody tr th {\n",
       "        vertical-align: top;\n",
       "    }\n",
       "\n",
       "    .dataframe thead th {\n",
       "        text-align: right;\n",
       "    }\n",
       "</style>\n",
       "<table border=\"1\" class=\"dataframe\">\n",
       "  <thead>\n",
       "    <tr style=\"text-align: right;\">\n",
       "      <th></th>\n",
       "      <th>Event Date/Time</th>\n",
       "      <th>Event Name</th>\n",
       "      <th>Count_max</th>\n",
       "      <th>Count_current</th>\n",
       "      <th>Count_avail</th>\n",
       "      <th>Percent_sold</th>\n",
       "      <th>Percent_avail</th>\n",
       "      <th>Event Name-Date</th>\n",
       "    </tr>\n",
       "  </thead>\n",
       "  <tbody>\n",
       "    <tr>\n",
       "      <th>9</th>\n",
       "      <td>2024-05-06 10:30:00</td>\n",
       "      <td>Amazing Animals</td>\n",
       "      <td>239</td>\n",
       "      <td>129</td>\n",
       "      <td>110</td>\n",
       "      <td>0.539749</td>\n",
       "      <td>0.460251</td>\n",
       "      <td>Amazing Animals (2024-05-06 10:30)</td>\n",
       "    </tr>\n",
       "    <tr>\n",
       "      <th>10</th>\n",
       "      <td>2024-05-06 13:30:00</td>\n",
       "      <td>Amazing Animals</td>\n",
       "      <td>355</td>\n",
       "      <td>346</td>\n",
       "      <td>9</td>\n",
       "      <td>0.974648</td>\n",
       "      <td>0.025352</td>\n",
       "      <td>Amazing Animals (2024-05-06 13:30)</td>\n",
       "    </tr>\n",
       "  </tbody>\n",
       "</table>\n",
       "</div>"
      ],
      "text/plain": [
       "       Event Date/Time       Event Name  Count_max  Count_current  \\\n",
       "9  2024-05-06 10:30:00  Amazing Animals        239            129   \n",
       "10 2024-05-06 13:30:00  Amazing Animals        355            346   \n",
       "\n",
       "    Count_avail  Percent_sold  Percent_avail  \\\n",
       "9           110      0.539749       0.460251   \n",
       "10            9      0.974648       0.025352   \n",
       "\n",
       "                       Event Name-Date  \n",
       "9   Amazing Animals (2024-05-06 10:30)  \n",
       "10  Amazing Animals (2024-05-06 13:30)  "
      ]
     },
     "execution_count": 108,
     "metadata": {},
     "output_type": "execute_result"
    }
   ],
   "source": [
    "df_sales = pd.merge(df_max,df_current, on = ['Event Date/Time', 'Event Name'], suffixes = ('_max', '_current'))\n",
    "df_sales['Count_avail'] = df_sales['Count_max'] - df_sales['Count_current']\n",
    "df_sales['Percent_sold'] = df_sales['Count_current'] / df_sales['Count_max']\n",
    "df_sales['Percent_avail'] = df_sales['Count_avail'] / df_sales['Count_max']\n",
    "df_sales['Event Name-Date'] = df_sales['Event Name'] + df_sales['Event Date/Time'].dt.strftime(' (%Y-%m-%d %H:%M)')\n",
    "df_sales[df_sales['Event Name'] == 'Amazing Animals']"
   ]
  },
  {
   "cell_type": "code",
   "execution_count": 109,
   "metadata": {},
   "outputs": [
    {
     "data": {
      "application/vnd.plotly.v1+json": {
       "config": {
        "plotlyServerURL": "https://plot.ly"
       },
       "data": [
        {
         "alignmentgroup": "True",
         "hovertemplate": "variable=Count_current<br>Event Name-Date=%{x}<br>value=%{y}<extra></extra>",
         "legendgroup": "Count_current",
         "marker": {
          "color": "#636EFA",
          "pattern": {
           "shape": ""
          }
         },
         "name": "Count_current",
         "offsetgroup": "Count_current",
         "orientation": "v",
         "showlegend": true,
         "textposition": "auto",
         "type": "bar",
         "x": [
          "Sack Sabbath (2024-04-26 19:00)",
          "Paul Young (2024-04-27 19:30)",
          "Jake Bugg (2024-05-02 19:00)",
          "Ian Botham & Geoff Miller (2024-05-03 19:00)",
          "Pet Needs (2024-05-04 19:00)",
          "The Cuban Brothers / DJ Yoda (2024-05-04 19:00)",
          "Magpie Market 2024 (2024-05-05 09:00)",
          "Clinton Baptiste : Roller Ghoster! (2024-05-05 19:00)",
          "Ríoghnach Connolly & Honeyfeet (2024-05-05 19:30)",
          "Amazing Animals (2024-05-06 10:30)",
          "Amazing Animals (2024-05-06 13:30)",
          "The Orielles (2024-05-07 19:30)",
          "New Purple Celebration - The Music of Prince (2024-05-10 19:00)",
          "Gary Stringer (2024-05-10 19:30)",
          "Gary Stringer (2024-05-11 19:30)",
          "Kings of Lyon & The UK Strokes (2024-05-11 19:30)",
          "Pale Blue Eyes (2024-05-14 19:00)",
          "John Lydon (2024-05-18 19:00)",
          "ZZ TOPPD (2024-05-18 19:30)",
          "Jeremy Healy (2024-05-25 19:00)",
          "Zion Train (2024-05-31 19:00)",
          "Charlie Simpson DJ Set (2024-05-31 19:30)",
          "Magpie Market 2024 (2024-06-02 09:00)",
          "Buzzcocks (2024-06-07 19:00)",
          "Toyah & Robert (2024-06-14 19:30)",
          "The Blockheads 2024 (2024-06-15 20:00)",
          "Troy Redfern (2024-06-17 19:00)",
          "Oye Santana (2024-06-21 20:00)",
          "London Calling (2024-06-27 19:00)",
          "Magpie Market 2024 (2024-07-07 09:00)",
          "Preacher Stone (2024-07-20 19:30)",
          "Wrecking Ball (2024-08-03 19:30)",
          "Magpie Market 2024 (2024-08-04 09:00)",
          "Ion Maiden (2024-08-09 19:00)",
          "Magpie Market 2024 (2024-09-01 09:00)",
          "The Devout (2024-09-01 19:00)",
          "The South (2024-09-06 19:30)",
          "Chantel McGregor (2024-09-08 19:00)",
          "The Entitled Sons (2024-09-21 19:30)",
          "R.E.M by Stipe (2024-09-27 19:00)",
          "Kerry Ellis - Queen of the West End (2024-09-27 19:30)",
          "Jo Whiley's 90s Anthems (2024-10-04 19:30)",
          "Brave Rival (2024-10-05 19:30)",
          "Magpie Market 2024 (2024-10-06 09:00)",
          "Steve Ignorant Band (2024-10-12 19:30)",
          "LINDISFARNE (2024-10-20 19:30)",
          "Walter Trout (2024-10-23 19:00)",
          "The Undertones (2024-10-24 19:00)",
          "Martin Fry - ABC (2024-10-25 19:00)",
          "Whitesnake UK (2024-10-25 19:00)",
          "Scouting For Girls (2024-10-26 19:30)",
          "Magpie Market 2024 (2024-11-03 09:00)",
          "Peter Hook & The Light (2024-11-07 19:00)",
          "The Freddie & Queen Experience (2024-11-08 19:30)",
          "The Smyths (2024-11-09 19:30)",
          "Chocolate Fair 2024 (2024-11-10 10:00)",
          "An Evening with Shaun Ryder (2024-11-10 19:00)",
          "One Night In Nashville (2024-11-15 19:00)",
          "Roni Size (2024-11-22 19:30)",
          "Magpie Market 2024 (2024-12-01 09:00)",
          "Abba Reunion (2024-12-06 19:00)",
          "Steve Harley (2025-04-12 19:00)"
         ],
         "xaxis": "x",
         "y": [
          26,
          241,
          650,
          381,
          30,
          296,
          30,
          217,
          2,
          129,
          346,
          17,
          78,
          33,
          110,
          16,
          61,
          369,
          13,
          50,
          14,
          257,
          16,
          55,
          72,
          134,
          13,
          14,
          41,
          16,
          6,
          27,
          13,
          10,
          22,
          25,
          39,
          21,
          15,
          16,
          88,
          58,
          14,
          35,
          77,
          173,
          58,
          125,
          64,
          4,
          835,
          45,
          328,
          12,
          80,
          18,
          22,
          39,
          35,
          45,
          12,
          66
         ],
         "yaxis": "y"
        },
        {
         "alignmentgroup": "True",
         "hovertemplate": "variable=Count_avail<br>Event Name-Date=%{x}<br>value=%{y}<extra></extra>",
         "legendgroup": "Count_avail",
         "marker": {
          "color": "#EF553B",
          "pattern": {
           "shape": ""
          }
         },
         "name": "Count_avail",
         "offsetgroup": "Count_avail",
         "orientation": "v",
         "showlegend": true,
         "textposition": "auto",
         "type": "bar",
         "x": [
          "Sack Sabbath (2024-04-26 19:00)",
          "Paul Young (2024-04-27 19:30)",
          "Jake Bugg (2024-05-02 19:00)",
          "Ian Botham & Geoff Miller (2024-05-03 19:00)",
          "Pet Needs (2024-05-04 19:00)",
          "The Cuban Brothers / DJ Yoda (2024-05-04 19:00)",
          "Magpie Market 2024 (2024-05-05 09:00)",
          "Clinton Baptiste : Roller Ghoster! (2024-05-05 19:00)",
          "Ríoghnach Connolly & Honeyfeet (2024-05-05 19:30)",
          "Amazing Animals (2024-05-06 10:30)",
          "Amazing Animals (2024-05-06 13:30)",
          "The Orielles (2024-05-07 19:30)",
          "New Purple Celebration - The Music of Prince (2024-05-10 19:00)",
          "Gary Stringer (2024-05-10 19:30)",
          "Gary Stringer (2024-05-11 19:30)",
          "Kings of Lyon & The UK Strokes (2024-05-11 19:30)",
          "Pale Blue Eyes (2024-05-14 19:00)",
          "John Lydon (2024-05-18 19:00)",
          "ZZ TOPPD (2024-05-18 19:30)",
          "Jeremy Healy (2024-05-25 19:00)",
          "Zion Train (2024-05-31 19:00)",
          "Charlie Simpson DJ Set (2024-05-31 19:30)",
          "Magpie Market 2024 (2024-06-02 09:00)",
          "Buzzcocks (2024-06-07 19:00)",
          "Toyah & Robert (2024-06-14 19:30)",
          "The Blockheads 2024 (2024-06-15 20:00)",
          "Troy Redfern (2024-06-17 19:00)",
          "Oye Santana (2024-06-21 20:00)",
          "London Calling (2024-06-27 19:00)",
          "Magpie Market 2024 (2024-07-07 09:00)",
          "Preacher Stone (2024-07-20 19:30)",
          "Wrecking Ball (2024-08-03 19:30)",
          "Magpie Market 2024 (2024-08-04 09:00)",
          "Ion Maiden (2024-08-09 19:00)",
          "Magpie Market 2024 (2024-09-01 09:00)",
          "The Devout (2024-09-01 19:00)",
          "The South (2024-09-06 19:30)",
          "Chantel McGregor (2024-09-08 19:00)",
          "The Entitled Sons (2024-09-21 19:30)",
          "R.E.M by Stipe (2024-09-27 19:00)",
          "Kerry Ellis - Queen of the West End (2024-09-27 19:30)",
          "Jo Whiley's 90s Anthems (2024-10-04 19:30)",
          "Brave Rival (2024-10-05 19:30)",
          "Magpie Market 2024 (2024-10-06 09:00)",
          "Steve Ignorant Band (2024-10-12 19:30)",
          "LINDISFARNE (2024-10-20 19:30)",
          "Walter Trout (2024-10-23 19:00)",
          "The Undertones (2024-10-24 19:00)",
          "Martin Fry - ABC (2024-10-25 19:00)",
          "Whitesnake UK (2024-10-25 19:00)",
          "Scouting For Girls (2024-10-26 19:30)",
          "Magpie Market 2024 (2024-11-03 09:00)",
          "Peter Hook & The Light (2024-11-07 19:00)",
          "The Freddie & Queen Experience (2024-11-08 19:30)",
          "The Smyths (2024-11-09 19:30)",
          "Chocolate Fair 2024 (2024-11-10 10:00)",
          "An Evening with Shaun Ryder (2024-11-10 19:00)",
          "One Night In Nashville (2024-11-15 19:00)",
          "Roni Size (2024-11-22 19:30)",
          "Magpie Market 2024 (2024-12-01 09:00)",
          "Abba Reunion (2024-12-06 19:00)",
          "Steve Harley (2025-04-12 19:00)"
         ],
         "xaxis": "x",
         "y": [
          84,
          71,
          0,
          73,
          80,
          539,
          15,
          70,
          108,
          110,
          9,
          93,
          622,
          77,
          0,
          834,
          49,
          131,
          97,
          0,
          96,
          378,
          29,
          795,
          57,
          701,
          97,
          86,
          69,
          29,
          104,
          808,
          32,
          100,
          23,
          825,
          796,
          89,
          820,
          94,
          123,
          777,
          96,
          10,
          773,
          66,
          582,
          560,
          147,
          106,
          0,
          1,
          307,
          838,
          770,
          27,
          189,
          716,
          565,
          1,
          723,
          63
         ],
         "yaxis": "y"
        }
       ],
       "layout": {
        "barmode": "relative",
        "legend": {
         "title": {
          "text": "variable"
         },
         "tracegroupgap": 0
        },
        "template": {
         "data": {
          "bar": [
           {
            "error_x": {
             "color": "#2a3f5f"
            },
            "error_y": {
             "color": "#2a3f5f"
            },
            "marker": {
             "line": {
              "color": "#E5ECF6",
              "width": 0.5
             },
             "pattern": {
              "fillmode": "overlay",
              "size": 10,
              "solidity": 0.2
             }
            },
            "type": "bar"
           }
          ],
          "barpolar": [
           {
            "marker": {
             "line": {
              "color": "#E5ECF6",
              "width": 0.5
             },
             "pattern": {
              "fillmode": "overlay",
              "size": 10,
              "solidity": 0.2
             }
            },
            "type": "barpolar"
           }
          ],
          "carpet": [
           {
            "aaxis": {
             "endlinecolor": "#2a3f5f",
             "gridcolor": "white",
             "linecolor": "white",
             "minorgridcolor": "white",
             "startlinecolor": "#2a3f5f"
            },
            "baxis": {
             "endlinecolor": "#2a3f5f",
             "gridcolor": "white",
             "linecolor": "white",
             "minorgridcolor": "white",
             "startlinecolor": "#2a3f5f"
            },
            "type": "carpet"
           }
          ],
          "choropleth": [
           {
            "colorbar": {
             "outlinewidth": 0,
             "ticks": ""
            },
            "type": "choropleth"
           }
          ],
          "contour": [
           {
            "colorbar": {
             "outlinewidth": 0,
             "ticks": ""
            },
            "colorscale": [
             [
              0,
              "#0d0887"
             ],
             [
              0.1111111111111111,
              "#46039f"
             ],
             [
              0.2222222222222222,
              "#7201a8"
             ],
             [
              0.3333333333333333,
              "#9c179e"
             ],
             [
              0.4444444444444444,
              "#bd3786"
             ],
             [
              0.5555555555555556,
              "#d8576b"
             ],
             [
              0.6666666666666666,
              "#ed7953"
             ],
             [
              0.7777777777777778,
              "#fb9f3a"
             ],
             [
              0.8888888888888888,
              "#fdca26"
             ],
             [
              1,
              "#f0f921"
             ]
            ],
            "type": "contour"
           }
          ],
          "contourcarpet": [
           {
            "colorbar": {
             "outlinewidth": 0,
             "ticks": ""
            },
            "type": "contourcarpet"
           }
          ],
          "heatmap": [
           {
            "colorbar": {
             "outlinewidth": 0,
             "ticks": ""
            },
            "colorscale": [
             [
              0,
              "#0d0887"
             ],
             [
              0.1111111111111111,
              "#46039f"
             ],
             [
              0.2222222222222222,
              "#7201a8"
             ],
             [
              0.3333333333333333,
              "#9c179e"
             ],
             [
              0.4444444444444444,
              "#bd3786"
             ],
             [
              0.5555555555555556,
              "#d8576b"
             ],
             [
              0.6666666666666666,
              "#ed7953"
             ],
             [
              0.7777777777777778,
              "#fb9f3a"
             ],
             [
              0.8888888888888888,
              "#fdca26"
             ],
             [
              1,
              "#f0f921"
             ]
            ],
            "type": "heatmap"
           }
          ],
          "heatmapgl": [
           {
            "colorbar": {
             "outlinewidth": 0,
             "ticks": ""
            },
            "colorscale": [
             [
              0,
              "#0d0887"
             ],
             [
              0.1111111111111111,
              "#46039f"
             ],
             [
              0.2222222222222222,
              "#7201a8"
             ],
             [
              0.3333333333333333,
              "#9c179e"
             ],
             [
              0.4444444444444444,
              "#bd3786"
             ],
             [
              0.5555555555555556,
              "#d8576b"
             ],
             [
              0.6666666666666666,
              "#ed7953"
             ],
             [
              0.7777777777777778,
              "#fb9f3a"
             ],
             [
              0.8888888888888888,
              "#fdca26"
             ],
             [
              1,
              "#f0f921"
             ]
            ],
            "type": "heatmapgl"
           }
          ],
          "histogram": [
           {
            "marker": {
             "pattern": {
              "fillmode": "overlay",
              "size": 10,
              "solidity": 0.2
             }
            },
            "type": "histogram"
           }
          ],
          "histogram2d": [
           {
            "colorbar": {
             "outlinewidth": 0,
             "ticks": ""
            },
            "colorscale": [
             [
              0,
              "#0d0887"
             ],
             [
              0.1111111111111111,
              "#46039f"
             ],
             [
              0.2222222222222222,
              "#7201a8"
             ],
             [
              0.3333333333333333,
              "#9c179e"
             ],
             [
              0.4444444444444444,
              "#bd3786"
             ],
             [
              0.5555555555555556,
              "#d8576b"
             ],
             [
              0.6666666666666666,
              "#ed7953"
             ],
             [
              0.7777777777777778,
              "#fb9f3a"
             ],
             [
              0.8888888888888888,
              "#fdca26"
             ],
             [
              1,
              "#f0f921"
             ]
            ],
            "type": "histogram2d"
           }
          ],
          "histogram2dcontour": [
           {
            "colorbar": {
             "outlinewidth": 0,
             "ticks": ""
            },
            "colorscale": [
             [
              0,
              "#0d0887"
             ],
             [
              0.1111111111111111,
              "#46039f"
             ],
             [
              0.2222222222222222,
              "#7201a8"
             ],
             [
              0.3333333333333333,
              "#9c179e"
             ],
             [
              0.4444444444444444,
              "#bd3786"
             ],
             [
              0.5555555555555556,
              "#d8576b"
             ],
             [
              0.6666666666666666,
              "#ed7953"
             ],
             [
              0.7777777777777778,
              "#fb9f3a"
             ],
             [
              0.8888888888888888,
              "#fdca26"
             ],
             [
              1,
              "#f0f921"
             ]
            ],
            "type": "histogram2dcontour"
           }
          ],
          "mesh3d": [
           {
            "colorbar": {
             "outlinewidth": 0,
             "ticks": ""
            },
            "type": "mesh3d"
           }
          ],
          "parcoords": [
           {
            "line": {
             "colorbar": {
              "outlinewidth": 0,
              "ticks": ""
             }
            },
            "type": "parcoords"
           }
          ],
          "pie": [
           {
            "automargin": true,
            "type": "pie"
           }
          ],
          "scatter": [
           {
            "fillpattern": {
             "fillmode": "overlay",
             "size": 10,
             "solidity": 0.2
            },
            "type": "scatter"
           }
          ],
          "scatter3d": [
           {
            "line": {
             "colorbar": {
              "outlinewidth": 0,
              "ticks": ""
             }
            },
            "marker": {
             "colorbar": {
              "outlinewidth": 0,
              "ticks": ""
             }
            },
            "type": "scatter3d"
           }
          ],
          "scattercarpet": [
           {
            "marker": {
             "colorbar": {
              "outlinewidth": 0,
              "ticks": ""
             }
            },
            "type": "scattercarpet"
           }
          ],
          "scattergeo": [
           {
            "marker": {
             "colorbar": {
              "outlinewidth": 0,
              "ticks": ""
             }
            },
            "type": "scattergeo"
           }
          ],
          "scattergl": [
           {
            "marker": {
             "colorbar": {
              "outlinewidth": 0,
              "ticks": ""
             }
            },
            "type": "scattergl"
           }
          ],
          "scattermapbox": [
           {
            "marker": {
             "colorbar": {
              "outlinewidth": 0,
              "ticks": ""
             }
            },
            "type": "scattermapbox"
           }
          ],
          "scatterpolar": [
           {
            "marker": {
             "colorbar": {
              "outlinewidth": 0,
              "ticks": ""
             }
            },
            "type": "scatterpolar"
           }
          ],
          "scatterpolargl": [
           {
            "marker": {
             "colorbar": {
              "outlinewidth": 0,
              "ticks": ""
             }
            },
            "type": "scatterpolargl"
           }
          ],
          "scatterternary": [
           {
            "marker": {
             "colorbar": {
              "outlinewidth": 0,
              "ticks": ""
             }
            },
            "type": "scatterternary"
           }
          ],
          "surface": [
           {
            "colorbar": {
             "outlinewidth": 0,
             "ticks": ""
            },
            "colorscale": [
             [
              0,
              "#0d0887"
             ],
             [
              0.1111111111111111,
              "#46039f"
             ],
             [
              0.2222222222222222,
              "#7201a8"
             ],
             [
              0.3333333333333333,
              "#9c179e"
             ],
             [
              0.4444444444444444,
              "#bd3786"
             ],
             [
              0.5555555555555556,
              "#d8576b"
             ],
             [
              0.6666666666666666,
              "#ed7953"
             ],
             [
              0.7777777777777778,
              "#fb9f3a"
             ],
             [
              0.8888888888888888,
              "#fdca26"
             ],
             [
              1,
              "#f0f921"
             ]
            ],
            "type": "surface"
           }
          ],
          "table": [
           {
            "cells": {
             "fill": {
              "color": "#EBF0F8"
             },
             "line": {
              "color": "white"
             }
            },
            "header": {
             "fill": {
              "color": "#C8D4E3"
             },
             "line": {
              "color": "white"
             }
            },
            "type": "table"
           }
          ]
         },
         "layout": {
          "annotationdefaults": {
           "arrowcolor": "#2a3f5f",
           "arrowhead": 0,
           "arrowwidth": 1
          },
          "autotypenumbers": "strict",
          "coloraxis": {
           "colorbar": {
            "outlinewidth": 0,
            "ticks": ""
           }
          },
          "colorscale": {
           "diverging": [
            [
             0,
             "#8e0152"
            ],
            [
             0.1,
             "#c51b7d"
            ],
            [
             0.2,
             "#de77ae"
            ],
            [
             0.3,
             "#f1b6da"
            ],
            [
             0.4,
             "#fde0ef"
            ],
            [
             0.5,
             "#f7f7f7"
            ],
            [
             0.6,
             "#e6f5d0"
            ],
            [
             0.7,
             "#b8e186"
            ],
            [
             0.8,
             "#7fbc41"
            ],
            [
             0.9,
             "#4d9221"
            ],
            [
             1,
             "#276419"
            ]
           ],
           "sequential": [
            [
             0,
             "#0d0887"
            ],
            [
             0.1111111111111111,
             "#46039f"
            ],
            [
             0.2222222222222222,
             "#7201a8"
            ],
            [
             0.3333333333333333,
             "#9c179e"
            ],
            [
             0.4444444444444444,
             "#bd3786"
            ],
            [
             0.5555555555555556,
             "#d8576b"
            ],
            [
             0.6666666666666666,
             "#ed7953"
            ],
            [
             0.7777777777777778,
             "#fb9f3a"
            ],
            [
             0.8888888888888888,
             "#fdca26"
            ],
            [
             1,
             "#f0f921"
            ]
           ],
           "sequentialminus": [
            [
             0,
             "#0d0887"
            ],
            [
             0.1111111111111111,
             "#46039f"
            ],
            [
             0.2222222222222222,
             "#7201a8"
            ],
            [
             0.3333333333333333,
             "#9c179e"
            ],
            [
             0.4444444444444444,
             "#bd3786"
            ],
            [
             0.5555555555555556,
             "#d8576b"
            ],
            [
             0.6666666666666666,
             "#ed7953"
            ],
            [
             0.7777777777777778,
             "#fb9f3a"
            ],
            [
             0.8888888888888888,
             "#fdca26"
            ],
            [
             1,
             "#f0f921"
            ]
           ]
          },
          "colorway": [
           "#636efa",
           "#EF553B",
           "#00cc96",
           "#ab63fa",
           "#FFA15A",
           "#19d3f3",
           "#FF6692",
           "#B6E880",
           "#FF97FF",
           "#FECB52"
          ],
          "font": {
           "color": "#2a3f5f"
          },
          "geo": {
           "bgcolor": "white",
           "lakecolor": "white",
           "landcolor": "#E5ECF6",
           "showlakes": true,
           "showland": true,
           "subunitcolor": "white"
          },
          "hoverlabel": {
           "align": "left"
          },
          "hovermode": "closest",
          "mapbox": {
           "style": "light"
          },
          "paper_bgcolor": "white",
          "plot_bgcolor": "#E5ECF6",
          "polar": {
           "angularaxis": {
            "gridcolor": "white",
            "linecolor": "white",
            "ticks": ""
           },
           "bgcolor": "#E5ECF6",
           "radialaxis": {
            "gridcolor": "white",
            "linecolor": "white",
            "ticks": ""
           }
          },
          "scene": {
           "xaxis": {
            "backgroundcolor": "#E5ECF6",
            "gridcolor": "white",
            "gridwidth": 2,
            "linecolor": "white",
            "showbackground": true,
            "ticks": "",
            "zerolinecolor": "white"
           },
           "yaxis": {
            "backgroundcolor": "#E5ECF6",
            "gridcolor": "white",
            "gridwidth": 2,
            "linecolor": "white",
            "showbackground": true,
            "ticks": "",
            "zerolinecolor": "white"
           },
           "zaxis": {
            "backgroundcolor": "#E5ECF6",
            "gridcolor": "white",
            "gridwidth": 2,
            "linecolor": "white",
            "showbackground": true,
            "ticks": "",
            "zerolinecolor": "white"
           }
          },
          "shapedefaults": {
           "line": {
            "color": "#2a3f5f"
           }
          },
          "ternary": {
           "aaxis": {
            "gridcolor": "white",
            "linecolor": "white",
            "ticks": ""
           },
           "baxis": {
            "gridcolor": "white",
            "linecolor": "white",
            "ticks": ""
           },
           "bgcolor": "#E5ECF6",
           "caxis": {
            "gridcolor": "white",
            "linecolor": "white",
            "ticks": ""
           }
          },
          "title": {
           "x": 0.05
          },
          "xaxis": {
           "automargin": true,
           "gridcolor": "white",
           "linecolor": "white",
           "ticks": "",
           "title": {
            "standoff": 15
           },
           "zerolinecolor": "white",
           "zerolinewidth": 2
          },
          "yaxis": {
           "automargin": true,
           "gridcolor": "white",
           "linecolor": "white",
           "ticks": "",
           "title": {
            "standoff": 15
           },
           "zerolinecolor": "white",
           "zerolinewidth": 2
          }
         }
        },
        "title": {
         "text": "Current and Available Counts by Event"
        },
        "xaxis": {
         "anchor": "y",
         "domain": [
          0,
          1
         ],
         "tickangle": -45,
         "title": {
          "text": "Event Name-Date"
         }
        },
        "yaxis": {
         "anchor": "x",
         "domain": [
          0,
          1
         ],
         "title": {
          "text": "value"
         }
        }
       }
      }
     },
     "metadata": {},
     "output_type": "display_data"
    }
   ],
   "source": [
    "import plotly.express as px\n",
    "\n",
    "# Create a stacked bar chart\n",
    "fig = px.bar(df_sales, x='Event Name-Date', y=['Count_current', 'Count_avail'], color_discrete_sequence=['#636EFA', '#EF553B'],\n",
    "             title='Current and Available Counts by Event', barmode='relative')\n",
    "\n",
    "# Set the x-axis labels to be rotated for better readability\n",
    "fig.update_layout(xaxis_tickangle=-45)\n",
    "\n",
    "# Show the chart\n",
    "fig.show()\n"
   ]
  },
  {
   "cell_type": "code",
   "execution_count": 110,
   "metadata": {},
   "outputs": [
    {
     "data": {
      "application/vnd.plotly.v1+json": {
       "config": {
        "plotlyServerURL": "https://plot.ly"
       },
       "data": [
        {
         "alignmentgroup": "True",
         "hovertemplate": "variable=Percent_sold<br>Event Name-Date=%{x}<br>value=%{y}<extra></extra>",
         "legendgroup": "Percent_sold",
         "marker": {
          "color": "#636EFA",
          "pattern": {
           "shape": ""
          }
         },
         "name": "Percent_sold",
         "offsetgroup": "Percent_sold",
         "orientation": "v",
         "showlegend": true,
         "textposition": "auto",
         "type": "bar",
         "x": [
          "Sack Sabbath (2024-04-26 19:00)",
          "Paul Young (2024-04-27 19:30)",
          "Jake Bugg (2024-05-02 19:00)",
          "Ian Botham & Geoff Miller (2024-05-03 19:00)",
          "Pet Needs (2024-05-04 19:00)",
          "The Cuban Brothers / DJ Yoda (2024-05-04 19:00)",
          "Magpie Market 2024 (2024-05-05 09:00)",
          "Clinton Baptiste : Roller Ghoster! (2024-05-05 19:00)",
          "Ríoghnach Connolly & Honeyfeet (2024-05-05 19:30)",
          "Amazing Animals (2024-05-06 10:30)",
          "Amazing Animals (2024-05-06 13:30)",
          "The Orielles (2024-05-07 19:30)",
          "New Purple Celebration - The Music of Prince (2024-05-10 19:00)",
          "Gary Stringer (2024-05-10 19:30)",
          "Gary Stringer (2024-05-11 19:30)",
          "Kings of Lyon & The UK Strokes (2024-05-11 19:30)",
          "Pale Blue Eyes (2024-05-14 19:00)",
          "John Lydon (2024-05-18 19:00)",
          "ZZ TOPPD (2024-05-18 19:30)",
          "Jeremy Healy (2024-05-25 19:00)",
          "Zion Train (2024-05-31 19:00)",
          "Charlie Simpson DJ Set (2024-05-31 19:30)",
          "Magpie Market 2024 (2024-06-02 09:00)",
          "Buzzcocks (2024-06-07 19:00)",
          "Toyah & Robert (2024-06-14 19:30)",
          "The Blockheads 2024 (2024-06-15 20:00)",
          "Troy Redfern (2024-06-17 19:00)",
          "Oye Santana (2024-06-21 20:00)",
          "London Calling (2024-06-27 19:00)",
          "Magpie Market 2024 (2024-07-07 09:00)",
          "Preacher Stone (2024-07-20 19:30)",
          "Wrecking Ball (2024-08-03 19:30)",
          "Magpie Market 2024 (2024-08-04 09:00)",
          "Ion Maiden (2024-08-09 19:00)",
          "Magpie Market 2024 (2024-09-01 09:00)",
          "The Devout (2024-09-01 19:00)",
          "The South (2024-09-06 19:30)",
          "Chantel McGregor (2024-09-08 19:00)",
          "The Entitled Sons (2024-09-21 19:30)",
          "R.E.M by Stipe (2024-09-27 19:00)",
          "Kerry Ellis - Queen of the West End (2024-09-27 19:30)",
          "Jo Whiley's 90s Anthems (2024-10-04 19:30)",
          "Brave Rival (2024-10-05 19:30)",
          "Magpie Market 2024 (2024-10-06 09:00)",
          "Steve Ignorant Band (2024-10-12 19:30)",
          "LINDISFARNE (2024-10-20 19:30)",
          "Walter Trout (2024-10-23 19:00)",
          "The Undertones (2024-10-24 19:00)",
          "Martin Fry - ABC (2024-10-25 19:00)",
          "Whitesnake UK (2024-10-25 19:00)",
          "Scouting For Girls (2024-10-26 19:30)",
          "Magpie Market 2024 (2024-11-03 09:00)",
          "Peter Hook & The Light (2024-11-07 19:00)",
          "The Freddie & Queen Experience (2024-11-08 19:30)",
          "The Smyths (2024-11-09 19:30)",
          "Chocolate Fair 2024 (2024-11-10 10:00)",
          "An Evening with Shaun Ryder (2024-11-10 19:00)",
          "One Night In Nashville (2024-11-15 19:00)",
          "Roni Size (2024-11-22 19:30)",
          "Magpie Market 2024 (2024-12-01 09:00)",
          "Abba Reunion (2024-12-06 19:00)",
          "Steve Harley (2025-04-12 19:00)"
         ],
         "xaxis": "x",
         "y": [
          0.23636363636363636,
          0.7724358974358975,
          1,
          0.8392070484581498,
          0.2727272727272727,
          0.35449101796407184,
          0.6666666666666666,
          0.7560975609756098,
          0.01818181818181818,
          0.5397489539748954,
          0.9746478873239437,
          0.15454545454545454,
          0.11142857142857143,
          0.3,
          1,
          0.018823529411764704,
          0.5545454545454546,
          0.738,
          0.11818181818181818,
          1,
          0.12727272727272726,
          0.4047244094488189,
          0.35555555555555557,
          0.06470588235294118,
          0.5581395348837209,
          0.16047904191616766,
          0.11818181818181818,
          0.14,
          0.37272727272727274,
          0.35555555555555557,
          0.05454545454545454,
          0.032335329341317366,
          0.28888888888888886,
          0.09090909090909091,
          0.4888888888888889,
          0.029411764705882353,
          0.046706586826347304,
          0.19090909090909092,
          0.017964071856287425,
          0.14545454545454545,
          0.41706161137440756,
          0.06946107784431138,
          0.12727272727272726,
          0.7777777777777778,
          0.09058823529411765,
          0.7238493723849372,
          0.090625,
          0.18248175182481752,
          0.3033175355450237,
          0.03636363636363636,
          1,
          0.9782608695652174,
          0.5165354330708661,
          0.01411764705882353,
          0.09411764705882353,
          0.4,
          0.10426540284360189,
          0.051655629139072845,
          0.058333333333333334,
          0.9782608695652174,
          0.0163265306122449,
          0.5116279069767442
         ],
         "yaxis": "y"
        },
        {
         "alignmentgroup": "True",
         "hovertemplate": "variable=Percent_avail<br>Event Name-Date=%{x}<br>value=%{y}<extra></extra>",
         "legendgroup": "Percent_avail",
         "marker": {
          "color": "#EF553B",
          "pattern": {
           "shape": ""
          }
         },
         "name": "Percent_avail",
         "offsetgroup": "Percent_avail",
         "orientation": "v",
         "showlegend": true,
         "textposition": "auto",
         "type": "bar",
         "x": [
          "Sack Sabbath (2024-04-26 19:00)",
          "Paul Young (2024-04-27 19:30)",
          "Jake Bugg (2024-05-02 19:00)",
          "Ian Botham & Geoff Miller (2024-05-03 19:00)",
          "Pet Needs (2024-05-04 19:00)",
          "The Cuban Brothers / DJ Yoda (2024-05-04 19:00)",
          "Magpie Market 2024 (2024-05-05 09:00)",
          "Clinton Baptiste : Roller Ghoster! (2024-05-05 19:00)",
          "Ríoghnach Connolly & Honeyfeet (2024-05-05 19:30)",
          "Amazing Animals (2024-05-06 10:30)",
          "Amazing Animals (2024-05-06 13:30)",
          "The Orielles (2024-05-07 19:30)",
          "New Purple Celebration - The Music of Prince (2024-05-10 19:00)",
          "Gary Stringer (2024-05-10 19:30)",
          "Gary Stringer (2024-05-11 19:30)",
          "Kings of Lyon & The UK Strokes (2024-05-11 19:30)",
          "Pale Blue Eyes (2024-05-14 19:00)",
          "John Lydon (2024-05-18 19:00)",
          "ZZ TOPPD (2024-05-18 19:30)",
          "Jeremy Healy (2024-05-25 19:00)",
          "Zion Train (2024-05-31 19:00)",
          "Charlie Simpson DJ Set (2024-05-31 19:30)",
          "Magpie Market 2024 (2024-06-02 09:00)",
          "Buzzcocks (2024-06-07 19:00)",
          "Toyah & Robert (2024-06-14 19:30)",
          "The Blockheads 2024 (2024-06-15 20:00)",
          "Troy Redfern (2024-06-17 19:00)",
          "Oye Santana (2024-06-21 20:00)",
          "London Calling (2024-06-27 19:00)",
          "Magpie Market 2024 (2024-07-07 09:00)",
          "Preacher Stone (2024-07-20 19:30)",
          "Wrecking Ball (2024-08-03 19:30)",
          "Magpie Market 2024 (2024-08-04 09:00)",
          "Ion Maiden (2024-08-09 19:00)",
          "Magpie Market 2024 (2024-09-01 09:00)",
          "The Devout (2024-09-01 19:00)",
          "The South (2024-09-06 19:30)",
          "Chantel McGregor (2024-09-08 19:00)",
          "The Entitled Sons (2024-09-21 19:30)",
          "R.E.M by Stipe (2024-09-27 19:00)",
          "Kerry Ellis - Queen of the West End (2024-09-27 19:30)",
          "Jo Whiley's 90s Anthems (2024-10-04 19:30)",
          "Brave Rival (2024-10-05 19:30)",
          "Magpie Market 2024 (2024-10-06 09:00)",
          "Steve Ignorant Band (2024-10-12 19:30)",
          "LINDISFARNE (2024-10-20 19:30)",
          "Walter Trout (2024-10-23 19:00)",
          "The Undertones (2024-10-24 19:00)",
          "Martin Fry - ABC (2024-10-25 19:00)",
          "Whitesnake UK (2024-10-25 19:00)",
          "Scouting For Girls (2024-10-26 19:30)",
          "Magpie Market 2024 (2024-11-03 09:00)",
          "Peter Hook & The Light (2024-11-07 19:00)",
          "The Freddie & Queen Experience (2024-11-08 19:30)",
          "The Smyths (2024-11-09 19:30)",
          "Chocolate Fair 2024 (2024-11-10 10:00)",
          "An Evening with Shaun Ryder (2024-11-10 19:00)",
          "One Night In Nashville (2024-11-15 19:00)",
          "Roni Size (2024-11-22 19:30)",
          "Magpie Market 2024 (2024-12-01 09:00)",
          "Abba Reunion (2024-12-06 19:00)",
          "Steve Harley (2025-04-12 19:00)"
         ],
         "xaxis": "x",
         "y": [
          0.7636363636363637,
          0.22756410256410256,
          0,
          0.16079295154185022,
          0.7272727272727273,
          0.6455089820359281,
          0.3333333333333333,
          0.24390243902439024,
          0.9818181818181818,
          0.4602510460251046,
          0.02535211267605634,
          0.8454545454545455,
          0.8885714285714286,
          0.7,
          0,
          0.9811764705882353,
          0.44545454545454544,
          0.262,
          0.8818181818181818,
          0,
          0.8727272727272727,
          0.5952755905511811,
          0.6444444444444445,
          0.9352941176470588,
          0.4418604651162791,
          0.8395209580838323,
          0.8818181818181818,
          0.86,
          0.6272727272727273,
          0.6444444444444445,
          0.9454545454545454,
          0.9676646706586827,
          0.7111111111111111,
          0.9090909090909091,
          0.5111111111111111,
          0.9705882352941176,
          0.9532934131736527,
          0.8090909090909091,
          0.9820359281437125,
          0.8545454545454545,
          0.5829383886255924,
          0.9305389221556887,
          0.8727272727272727,
          0.2222222222222222,
          0.9094117647058824,
          0.27615062761506276,
          0.909375,
          0.8175182481751825,
          0.6966824644549763,
          0.9636363636363636,
          0,
          0.021739130434782608,
          0.48346456692913387,
          0.9858823529411764,
          0.9058823529411765,
          0.6,
          0.8957345971563981,
          0.9483443708609272,
          0.9416666666666667,
          0.021739130434782608,
          0.9836734693877551,
          0.4883720930232558
         ],
         "yaxis": "y"
        }
       ],
       "layout": {
        "barmode": "relative",
        "legend": {
         "title": {
          "text": "variable"
         },
         "tracegroupgap": 0
        },
        "template": {
         "data": {
          "bar": [
           {
            "error_x": {
             "color": "#2a3f5f"
            },
            "error_y": {
             "color": "#2a3f5f"
            },
            "marker": {
             "line": {
              "color": "#E5ECF6",
              "width": 0.5
             },
             "pattern": {
              "fillmode": "overlay",
              "size": 10,
              "solidity": 0.2
             }
            },
            "type": "bar"
           }
          ],
          "barpolar": [
           {
            "marker": {
             "line": {
              "color": "#E5ECF6",
              "width": 0.5
             },
             "pattern": {
              "fillmode": "overlay",
              "size": 10,
              "solidity": 0.2
             }
            },
            "type": "barpolar"
           }
          ],
          "carpet": [
           {
            "aaxis": {
             "endlinecolor": "#2a3f5f",
             "gridcolor": "white",
             "linecolor": "white",
             "minorgridcolor": "white",
             "startlinecolor": "#2a3f5f"
            },
            "baxis": {
             "endlinecolor": "#2a3f5f",
             "gridcolor": "white",
             "linecolor": "white",
             "minorgridcolor": "white",
             "startlinecolor": "#2a3f5f"
            },
            "type": "carpet"
           }
          ],
          "choropleth": [
           {
            "colorbar": {
             "outlinewidth": 0,
             "ticks": ""
            },
            "type": "choropleth"
           }
          ],
          "contour": [
           {
            "colorbar": {
             "outlinewidth": 0,
             "ticks": ""
            },
            "colorscale": [
             [
              0,
              "#0d0887"
             ],
             [
              0.1111111111111111,
              "#46039f"
             ],
             [
              0.2222222222222222,
              "#7201a8"
             ],
             [
              0.3333333333333333,
              "#9c179e"
             ],
             [
              0.4444444444444444,
              "#bd3786"
             ],
             [
              0.5555555555555556,
              "#d8576b"
             ],
             [
              0.6666666666666666,
              "#ed7953"
             ],
             [
              0.7777777777777778,
              "#fb9f3a"
             ],
             [
              0.8888888888888888,
              "#fdca26"
             ],
             [
              1,
              "#f0f921"
             ]
            ],
            "type": "contour"
           }
          ],
          "contourcarpet": [
           {
            "colorbar": {
             "outlinewidth": 0,
             "ticks": ""
            },
            "type": "contourcarpet"
           }
          ],
          "heatmap": [
           {
            "colorbar": {
             "outlinewidth": 0,
             "ticks": ""
            },
            "colorscale": [
             [
              0,
              "#0d0887"
             ],
             [
              0.1111111111111111,
              "#46039f"
             ],
             [
              0.2222222222222222,
              "#7201a8"
             ],
             [
              0.3333333333333333,
              "#9c179e"
             ],
             [
              0.4444444444444444,
              "#bd3786"
             ],
             [
              0.5555555555555556,
              "#d8576b"
             ],
             [
              0.6666666666666666,
              "#ed7953"
             ],
             [
              0.7777777777777778,
              "#fb9f3a"
             ],
             [
              0.8888888888888888,
              "#fdca26"
             ],
             [
              1,
              "#f0f921"
             ]
            ],
            "type": "heatmap"
           }
          ],
          "heatmapgl": [
           {
            "colorbar": {
             "outlinewidth": 0,
             "ticks": ""
            },
            "colorscale": [
             [
              0,
              "#0d0887"
             ],
             [
              0.1111111111111111,
              "#46039f"
             ],
             [
              0.2222222222222222,
              "#7201a8"
             ],
             [
              0.3333333333333333,
              "#9c179e"
             ],
             [
              0.4444444444444444,
              "#bd3786"
             ],
             [
              0.5555555555555556,
              "#d8576b"
             ],
             [
              0.6666666666666666,
              "#ed7953"
             ],
             [
              0.7777777777777778,
              "#fb9f3a"
             ],
             [
              0.8888888888888888,
              "#fdca26"
             ],
             [
              1,
              "#f0f921"
             ]
            ],
            "type": "heatmapgl"
           }
          ],
          "histogram": [
           {
            "marker": {
             "pattern": {
              "fillmode": "overlay",
              "size": 10,
              "solidity": 0.2
             }
            },
            "type": "histogram"
           }
          ],
          "histogram2d": [
           {
            "colorbar": {
             "outlinewidth": 0,
             "ticks": ""
            },
            "colorscale": [
             [
              0,
              "#0d0887"
             ],
             [
              0.1111111111111111,
              "#46039f"
             ],
             [
              0.2222222222222222,
              "#7201a8"
             ],
             [
              0.3333333333333333,
              "#9c179e"
             ],
             [
              0.4444444444444444,
              "#bd3786"
             ],
             [
              0.5555555555555556,
              "#d8576b"
             ],
             [
              0.6666666666666666,
              "#ed7953"
             ],
             [
              0.7777777777777778,
              "#fb9f3a"
             ],
             [
              0.8888888888888888,
              "#fdca26"
             ],
             [
              1,
              "#f0f921"
             ]
            ],
            "type": "histogram2d"
           }
          ],
          "histogram2dcontour": [
           {
            "colorbar": {
             "outlinewidth": 0,
             "ticks": ""
            },
            "colorscale": [
             [
              0,
              "#0d0887"
             ],
             [
              0.1111111111111111,
              "#46039f"
             ],
             [
              0.2222222222222222,
              "#7201a8"
             ],
             [
              0.3333333333333333,
              "#9c179e"
             ],
             [
              0.4444444444444444,
              "#bd3786"
             ],
             [
              0.5555555555555556,
              "#d8576b"
             ],
             [
              0.6666666666666666,
              "#ed7953"
             ],
             [
              0.7777777777777778,
              "#fb9f3a"
             ],
             [
              0.8888888888888888,
              "#fdca26"
             ],
             [
              1,
              "#f0f921"
             ]
            ],
            "type": "histogram2dcontour"
           }
          ],
          "mesh3d": [
           {
            "colorbar": {
             "outlinewidth": 0,
             "ticks": ""
            },
            "type": "mesh3d"
           }
          ],
          "parcoords": [
           {
            "line": {
             "colorbar": {
              "outlinewidth": 0,
              "ticks": ""
             }
            },
            "type": "parcoords"
           }
          ],
          "pie": [
           {
            "automargin": true,
            "type": "pie"
           }
          ],
          "scatter": [
           {
            "fillpattern": {
             "fillmode": "overlay",
             "size": 10,
             "solidity": 0.2
            },
            "type": "scatter"
           }
          ],
          "scatter3d": [
           {
            "line": {
             "colorbar": {
              "outlinewidth": 0,
              "ticks": ""
             }
            },
            "marker": {
             "colorbar": {
              "outlinewidth": 0,
              "ticks": ""
             }
            },
            "type": "scatter3d"
           }
          ],
          "scattercarpet": [
           {
            "marker": {
             "colorbar": {
              "outlinewidth": 0,
              "ticks": ""
             }
            },
            "type": "scattercarpet"
           }
          ],
          "scattergeo": [
           {
            "marker": {
             "colorbar": {
              "outlinewidth": 0,
              "ticks": ""
             }
            },
            "type": "scattergeo"
           }
          ],
          "scattergl": [
           {
            "marker": {
             "colorbar": {
              "outlinewidth": 0,
              "ticks": ""
             }
            },
            "type": "scattergl"
           }
          ],
          "scattermapbox": [
           {
            "marker": {
             "colorbar": {
              "outlinewidth": 0,
              "ticks": ""
             }
            },
            "type": "scattermapbox"
           }
          ],
          "scatterpolar": [
           {
            "marker": {
             "colorbar": {
              "outlinewidth": 0,
              "ticks": ""
             }
            },
            "type": "scatterpolar"
           }
          ],
          "scatterpolargl": [
           {
            "marker": {
             "colorbar": {
              "outlinewidth": 0,
              "ticks": ""
             }
            },
            "type": "scatterpolargl"
           }
          ],
          "scatterternary": [
           {
            "marker": {
             "colorbar": {
              "outlinewidth": 0,
              "ticks": ""
             }
            },
            "type": "scatterternary"
           }
          ],
          "surface": [
           {
            "colorbar": {
             "outlinewidth": 0,
             "ticks": ""
            },
            "colorscale": [
             [
              0,
              "#0d0887"
             ],
             [
              0.1111111111111111,
              "#46039f"
             ],
             [
              0.2222222222222222,
              "#7201a8"
             ],
             [
              0.3333333333333333,
              "#9c179e"
             ],
             [
              0.4444444444444444,
              "#bd3786"
             ],
             [
              0.5555555555555556,
              "#d8576b"
             ],
             [
              0.6666666666666666,
              "#ed7953"
             ],
             [
              0.7777777777777778,
              "#fb9f3a"
             ],
             [
              0.8888888888888888,
              "#fdca26"
             ],
             [
              1,
              "#f0f921"
             ]
            ],
            "type": "surface"
           }
          ],
          "table": [
           {
            "cells": {
             "fill": {
              "color": "#EBF0F8"
             },
             "line": {
              "color": "white"
             }
            },
            "header": {
             "fill": {
              "color": "#C8D4E3"
             },
             "line": {
              "color": "white"
             }
            },
            "type": "table"
           }
          ]
         },
         "layout": {
          "annotationdefaults": {
           "arrowcolor": "#2a3f5f",
           "arrowhead": 0,
           "arrowwidth": 1
          },
          "autotypenumbers": "strict",
          "coloraxis": {
           "colorbar": {
            "outlinewidth": 0,
            "ticks": ""
           }
          },
          "colorscale": {
           "diverging": [
            [
             0,
             "#8e0152"
            ],
            [
             0.1,
             "#c51b7d"
            ],
            [
             0.2,
             "#de77ae"
            ],
            [
             0.3,
             "#f1b6da"
            ],
            [
             0.4,
             "#fde0ef"
            ],
            [
             0.5,
             "#f7f7f7"
            ],
            [
             0.6,
             "#e6f5d0"
            ],
            [
             0.7,
             "#b8e186"
            ],
            [
             0.8,
             "#7fbc41"
            ],
            [
             0.9,
             "#4d9221"
            ],
            [
             1,
             "#276419"
            ]
           ],
           "sequential": [
            [
             0,
             "#0d0887"
            ],
            [
             0.1111111111111111,
             "#46039f"
            ],
            [
             0.2222222222222222,
             "#7201a8"
            ],
            [
             0.3333333333333333,
             "#9c179e"
            ],
            [
             0.4444444444444444,
             "#bd3786"
            ],
            [
             0.5555555555555556,
             "#d8576b"
            ],
            [
             0.6666666666666666,
             "#ed7953"
            ],
            [
             0.7777777777777778,
             "#fb9f3a"
            ],
            [
             0.8888888888888888,
             "#fdca26"
            ],
            [
             1,
             "#f0f921"
            ]
           ],
           "sequentialminus": [
            [
             0,
             "#0d0887"
            ],
            [
             0.1111111111111111,
             "#46039f"
            ],
            [
             0.2222222222222222,
             "#7201a8"
            ],
            [
             0.3333333333333333,
             "#9c179e"
            ],
            [
             0.4444444444444444,
             "#bd3786"
            ],
            [
             0.5555555555555556,
             "#d8576b"
            ],
            [
             0.6666666666666666,
             "#ed7953"
            ],
            [
             0.7777777777777778,
             "#fb9f3a"
            ],
            [
             0.8888888888888888,
             "#fdca26"
            ],
            [
             1,
             "#f0f921"
            ]
           ]
          },
          "colorway": [
           "#636efa",
           "#EF553B",
           "#00cc96",
           "#ab63fa",
           "#FFA15A",
           "#19d3f3",
           "#FF6692",
           "#B6E880",
           "#FF97FF",
           "#FECB52"
          ],
          "font": {
           "color": "#2a3f5f"
          },
          "geo": {
           "bgcolor": "white",
           "lakecolor": "white",
           "landcolor": "#E5ECF6",
           "showlakes": true,
           "showland": true,
           "subunitcolor": "white"
          },
          "hoverlabel": {
           "align": "left"
          },
          "hovermode": "closest",
          "mapbox": {
           "style": "light"
          },
          "paper_bgcolor": "white",
          "plot_bgcolor": "#E5ECF6",
          "polar": {
           "angularaxis": {
            "gridcolor": "white",
            "linecolor": "white",
            "ticks": ""
           },
           "bgcolor": "#E5ECF6",
           "radialaxis": {
            "gridcolor": "white",
            "linecolor": "white",
            "ticks": ""
           }
          },
          "scene": {
           "xaxis": {
            "backgroundcolor": "#E5ECF6",
            "gridcolor": "white",
            "gridwidth": 2,
            "linecolor": "white",
            "showbackground": true,
            "ticks": "",
            "zerolinecolor": "white"
           },
           "yaxis": {
            "backgroundcolor": "#E5ECF6",
            "gridcolor": "white",
            "gridwidth": 2,
            "linecolor": "white",
            "showbackground": true,
            "ticks": "",
            "zerolinecolor": "white"
           },
           "zaxis": {
            "backgroundcolor": "#E5ECF6",
            "gridcolor": "white",
            "gridwidth": 2,
            "linecolor": "white",
            "showbackground": true,
            "ticks": "",
            "zerolinecolor": "white"
           }
          },
          "shapedefaults": {
           "line": {
            "color": "#2a3f5f"
           }
          },
          "ternary": {
           "aaxis": {
            "gridcolor": "white",
            "linecolor": "white",
            "ticks": ""
           },
           "baxis": {
            "gridcolor": "white",
            "linecolor": "white",
            "ticks": ""
           },
           "bgcolor": "#E5ECF6",
           "caxis": {
            "gridcolor": "white",
            "linecolor": "white",
            "ticks": ""
           }
          },
          "title": {
           "x": 0.05
          },
          "xaxis": {
           "automargin": true,
           "gridcolor": "white",
           "linecolor": "white",
           "ticks": "",
           "title": {
            "standoff": 15
           },
           "zerolinecolor": "white",
           "zerolinewidth": 2
          },
          "yaxis": {
           "automargin": true,
           "gridcolor": "white",
           "linecolor": "white",
           "ticks": "",
           "title": {
            "standoff": 15
           },
           "zerolinecolor": "white",
           "zerolinewidth": 2
          }
         }
        },
        "title": {
         "text": "Current and Available Counts by Event"
        },
        "xaxis": {
         "anchor": "y",
         "domain": [
          0,
          1
         ],
         "tickangle": -45,
         "title": {
          "text": "Event Name-Date"
         }
        },
        "yaxis": {
         "anchor": "x",
         "domain": [
          0,
          1
         ],
         "title": {
          "text": "value"
         }
        }
       }
      }
     },
     "metadata": {},
     "output_type": "display_data"
    }
   ],
   "source": [
    "# Create a stacked bar chart\n",
    "fig = px.bar(df_sales, x='Event Name-Date', y=['Percent_sold', 'Percent_avail'], color_discrete_sequence=['#636EFA', '#EF553B'],\n",
    "             title='Current and Available Counts by Event', barmode='relative')\n",
    "\n",
    "# Set the x-axis labels to be rotated for better readability\n",
    "fig.update_layout(xaxis_tickangle=-45)\n",
    "\n",
    "# Show the chart\n",
    "fig.show()"
   ]
  },
  {
   "cell_type": "code",
   "execution_count": 116,
   "metadata": {},
   "outputs": [
    {
     "data": {
      "text/plain": [
       "array(['Sack Sabbath (2024-04-26 19:00)', 'Paul Young (2024-04-27 19:30)',\n",
       "       'Jake Bugg (2024-05-02 19:00)',\n",
       "       'Ian Botham & Geoff Miller (2024-05-03 19:00)',\n",
       "       'Pet Needs (2024-05-04 19:00)',\n",
       "       'The Cuban Brothers / DJ Yoda (2024-05-04 19:00)',\n",
       "       'Magpie Market 2024 (2024-05-05 09:00)',\n",
       "       'Clinton Baptiste : Roller Ghoster! (2024-05-05 19:00)',\n",
       "       'Ríoghnach Connolly & Honeyfeet (2024-05-05 19:30)',\n",
       "       'Amazing Animals (2024-05-06 10:30)',\n",
       "       'Amazing Animals (2024-05-06 13:30)',\n",
       "       'The Orielles (2024-05-07 19:30)',\n",
       "       'New Purple Celebration - The Music of Prince (2024-05-10 19:00)',\n",
       "       'Gary Stringer (2024-05-10 19:30)',\n",
       "       'Gary Stringer (2024-05-11 19:30)',\n",
       "       'Kings of Lyon & The UK Strokes (2024-05-11 19:30)',\n",
       "       'Pale Blue Eyes (2024-05-14 19:00)',\n",
       "       'John Lydon (2024-05-18 19:00)', 'ZZ TOPPD (2024-05-18 19:30)',\n",
       "       'Jeremy Healy (2024-05-25 19:00)', 'Zion Train (2024-05-31 19:00)',\n",
       "       'Charlie Simpson DJ Set (2024-05-31 19:30)',\n",
       "       'Magpie Market 2024 (2024-06-02 09:00)',\n",
       "       'Buzzcocks (2024-06-07 19:00)',\n",
       "       'Toyah & Robert (2024-06-14 19:30)',\n",
       "       'The Blockheads 2024 (2024-06-15 20:00)',\n",
       "       'Troy Redfern (2024-06-17 19:00)',\n",
       "       'Oye Santana (2024-06-21 20:00)',\n",
       "       'London Calling (2024-06-27 19:00)',\n",
       "       'Magpie Market 2024 (2024-07-07 09:00)',\n",
       "       'Preacher Stone (2024-07-20 19:30)',\n",
       "       'Wrecking Ball (2024-08-03 19:30)',\n",
       "       'Magpie Market 2024 (2024-08-04 09:00)',\n",
       "       'Ion Maiden (2024-08-09 19:00)',\n",
       "       'Magpie Market 2024 (2024-09-01 09:00)',\n",
       "       'The Devout (2024-09-01 19:00)', 'The South (2024-09-06 19:30)',\n",
       "       'Chantel McGregor (2024-09-08 19:00)',\n",
       "       'The Entitled Sons (2024-09-21 19:30)',\n",
       "       'R.E.M by Stipe (2024-09-27 19:00)',\n",
       "       'Kerry Ellis - Queen of the West End (2024-09-27 19:30)',\n",
       "       \"Jo Whiley's 90s Anthems (2024-10-04 19:30)\",\n",
       "       'Brave Rival (2024-10-05 19:30)',\n",
       "       'Magpie Market 2024 (2024-10-06 09:00)',\n",
       "       'Steve Ignorant Band (2024-10-12 19:30)',\n",
       "       'LINDISFARNE (2024-10-20 19:30)',\n",
       "       'Walter Trout (2024-10-23 19:00)',\n",
       "       'The Undertones (2024-10-24 19:00)',\n",
       "       'Martin Fry - ABC (2024-10-25 19:00)',\n",
       "       'Whitesnake UK (2024-10-25 19:00)',\n",
       "       'Scouting For Girls (2024-10-26 19:30)',\n",
       "       'Magpie Market 2024 (2024-11-03 09:00)',\n",
       "       'Peter Hook & The Light (2024-11-07 19:00)',\n",
       "       'The Freddie & Queen Experience (2024-11-08 19:30)',\n",
       "       'The Smyths (2024-11-09 19:30)',\n",
       "       'Chocolate Fair 2024 (2024-11-10 10:00)',\n",
       "       'An Evening with Shaun Ryder (2024-11-10 19:00)',\n",
       "       'One Night In Nashville (2024-11-15 19:00)',\n",
       "       'Roni Size (2024-11-22 19:30)',\n",
       "       'Magpie Market 2024 (2024-12-01 09:00)',\n",
       "       'Abba Reunion (2024-12-06 19:00)',\n",
       "       'Steve Harley (2025-04-12 19:00)'], dtype=object)"
      ]
     },
     "execution_count": 116,
     "metadata": {},
     "output_type": "execute_result"
    }
   ],
   "source": [
    "df_sales['Event Name-Date'].values"
   ]
  },
  {
   "cell_type": "code",
   "execution_count": 113,
   "metadata": {},
   "outputs": [
    {
     "data": {
      "text/plain": [
       "['Sack Sabbath',\n",
       " 'Paul Young',\n",
       " 'Jake Bugg',\n",
       " 'Ian Botham & Geoff Miller',\n",
       " 'Pet Needs',\n",
       " 'The Cuban Brothers / DJ Yoda',\n",
       " 'Magpie Market 2024',\n",
       " 'Clinton Baptiste : Roller Ghoster!',\n",
       " 'Ríoghnach Connolly & Honeyfeet',\n",
       " 'Amazing Animals',\n",
       " 'Amazing Animals',\n",
       " 'The Orielles',\n",
       " 'New Purple Celebration - The Music of Prince',\n",
       " 'Gary Stringer',\n",
       " 'Gary Stringer',\n",
       " 'Kings of Lyon & The UK Strokes',\n",
       " 'Pale Blue Eyes',\n",
       " 'John Lydon',\n",
       " 'ZZ TOPPD',\n",
       " 'Jeremy Healy',\n",
       " 'Zion Train',\n",
       " 'Charlie Simpson DJ Set',\n",
       " 'Magpie Market 2024',\n",
       " 'Buzzcocks',\n",
       " 'Toyah & Robert',\n",
       " 'The Blockheads 2024',\n",
       " 'Troy Redfern',\n",
       " 'Oye Santana',\n",
       " 'London Calling',\n",
       " 'Magpie Market 2024',\n",
       " 'Preacher Stone',\n",
       " 'Wrecking Ball',\n",
       " 'Magpie Market 2024',\n",
       " 'Ion Maiden',\n",
       " 'Magpie Market 2024',\n",
       " 'The Devout',\n",
       " 'The South',\n",
       " 'Chantel McGregor',\n",
       " 'The Entitled Sons',\n",
       " 'R.E.M by Stipe',\n",
       " 'Kerry Ellis - Queen of the West End',\n",
       " \"Jo Whiley's 90s Anthems\",\n",
       " 'Brave Rival',\n",
       " 'Magpie Market 2024',\n",
       " 'Steve Ignorant Band',\n",
       " 'LINDISFARNE',\n",
       " 'Walter Trout',\n",
       " 'The Undertones',\n",
       " 'Martin Fry - ABC',\n",
       " 'Whitesnake UK',\n",
       " 'Scouting For Girls',\n",
       " 'Magpie Market 2024',\n",
       " 'Peter Hook & The Light',\n",
       " 'The Freddie & Queen Experience',\n",
       " 'The Smyths',\n",
       " 'Chocolate Fair 2024',\n",
       " 'An Evening with Shaun Ryder',\n",
       " 'One Night In Nashville',\n",
       " 'Roni Size',\n",
       " 'Magpie Market 2024',\n",
       " 'Abba Reunion',\n",
       " 'Steve Harley']"
      ]
     },
     "execution_count": 113,
     "metadata": {},
     "output_type": "execute_result"
    }
   ],
   "source": [
    "yy = df_sales['Event Name-Date'].unique()\n",
    "labels = [q.split(' (')[0] for q in df_sales['Event Name-Date'].unique()]\n",
    "labels"
   ]
  },
  {
   "cell_type": "code",
   "execution_count": 117,
   "metadata": {},
   "outputs": [
    {
     "data": {
      "text/html": [
       "<div>\n",
       "<style scoped>\n",
       "    .dataframe tbody tr th:only-of-type {\n",
       "        vertical-align: middle;\n",
       "    }\n",
       "\n",
       "    .dataframe tbody tr th {\n",
       "        vertical-align: top;\n",
       "    }\n",
       "\n",
       "    .dataframe thead th {\n",
       "        text-align: right;\n",
       "    }\n",
       "</style>\n",
       "<table border=\"1\" class=\"dataframe\">\n",
       "  <thead>\n",
       "    <tr style=\"text-align: right;\">\n",
       "      <th></th>\n",
       "      <th>Event Date/Time</th>\n",
       "      <th>Event Name</th>\n",
       "      <th>Count_max</th>\n",
       "      <th>Count_current</th>\n",
       "      <th>Count_avail</th>\n",
       "      <th>Percent_sold</th>\n",
       "      <th>Percent_avail</th>\n",
       "      <th>Event Name-Date</th>\n",
       "    </tr>\n",
       "  </thead>\n",
       "  <tbody>\n",
       "    <tr>\n",
       "      <th>0</th>\n",
       "      <td>2024-04-26 19:00:00</td>\n",
       "      <td>Sack Sabbath</td>\n",
       "      <td>110</td>\n",
       "      <td>26</td>\n",
       "      <td>84</td>\n",
       "      <td>0.236364</td>\n",
       "      <td>0.763636</td>\n",
       "      <td>Sack Sabbath (2024-04-26 19:00)</td>\n",
       "    </tr>\n",
       "  </tbody>\n",
       "</table>\n",
       "</div>"
      ],
      "text/plain": [
       "      Event Date/Time    Event Name  Count_max  Count_current  Count_avail  \\\n",
       "0 2024-04-26 19:00:00  Sack Sabbath        110             26           84   \n",
       "\n",
       "   Percent_sold  Percent_avail                  Event Name-Date  \n",
       "0      0.236364       0.763636  Sack Sabbath (2024-04-26 19:00)  "
      ]
     },
     "execution_count": 117,
     "metadata": {},
     "output_type": "execute_result"
    }
   ],
   "source": [
    "df_sales[df_sales['Event Name'] == 'Sack Sabbath']"
   ]
  },
  {
   "cell_type": "code",
   "execution_count": 127,
   "metadata": {},
   "outputs": [
    {
     "data": {
      "text/plain": [
       "array([26, 84], dtype=int64)"
      ]
     },
     "execution_count": 127,
     "metadata": {},
     "output_type": "execute_result"
    }
   ],
   "source": [
    "np.append(df_sales[df_sales['Event Name'] == 'Sack Sabbath']['Count_current'].values, df_sales[df_sales['Event Name'] == 'Sack Sabbath']['Count_avail'].values)"
   ]
  },
  {
   "cell_type": "code",
   "execution_count": 129,
   "metadata": {},
   "outputs": [
    {
     "data": {
      "application/vnd.plotly.v1+json": {
       "config": {
        "plotlyServerURL": "https://plot.ly"
       },
       "data": [
        {
         "labels": [
          "Count_current",
          "Count_avail"
         ],
         "title": {
          "text": "Current and Available Counts for Sack Sabbath\n"
         },
         "type": "pie",
         "values": [
          26,
          84
         ]
        }
       ],
       "layout": {
        "template": {
         "data": {
          "bar": [
           {
            "error_x": {
             "color": "#2a3f5f"
            },
            "error_y": {
             "color": "#2a3f5f"
            },
            "marker": {
             "line": {
              "color": "#E5ECF6",
              "width": 0.5
             },
             "pattern": {
              "fillmode": "overlay",
              "size": 10,
              "solidity": 0.2
             }
            },
            "type": "bar"
           }
          ],
          "barpolar": [
           {
            "marker": {
             "line": {
              "color": "#E5ECF6",
              "width": 0.5
             },
             "pattern": {
              "fillmode": "overlay",
              "size": 10,
              "solidity": 0.2
             }
            },
            "type": "barpolar"
           }
          ],
          "carpet": [
           {
            "aaxis": {
             "endlinecolor": "#2a3f5f",
             "gridcolor": "white",
             "linecolor": "white",
             "minorgridcolor": "white",
             "startlinecolor": "#2a3f5f"
            },
            "baxis": {
             "endlinecolor": "#2a3f5f",
             "gridcolor": "white",
             "linecolor": "white",
             "minorgridcolor": "white",
             "startlinecolor": "#2a3f5f"
            },
            "type": "carpet"
           }
          ],
          "choropleth": [
           {
            "colorbar": {
             "outlinewidth": 0,
             "ticks": ""
            },
            "type": "choropleth"
           }
          ],
          "contour": [
           {
            "colorbar": {
             "outlinewidth": 0,
             "ticks": ""
            },
            "colorscale": [
             [
              0,
              "#0d0887"
             ],
             [
              0.1111111111111111,
              "#46039f"
             ],
             [
              0.2222222222222222,
              "#7201a8"
             ],
             [
              0.3333333333333333,
              "#9c179e"
             ],
             [
              0.4444444444444444,
              "#bd3786"
             ],
             [
              0.5555555555555556,
              "#d8576b"
             ],
             [
              0.6666666666666666,
              "#ed7953"
             ],
             [
              0.7777777777777778,
              "#fb9f3a"
             ],
             [
              0.8888888888888888,
              "#fdca26"
             ],
             [
              1,
              "#f0f921"
             ]
            ],
            "type": "contour"
           }
          ],
          "contourcarpet": [
           {
            "colorbar": {
             "outlinewidth": 0,
             "ticks": ""
            },
            "type": "contourcarpet"
           }
          ],
          "heatmap": [
           {
            "colorbar": {
             "outlinewidth": 0,
             "ticks": ""
            },
            "colorscale": [
             [
              0,
              "#0d0887"
             ],
             [
              0.1111111111111111,
              "#46039f"
             ],
             [
              0.2222222222222222,
              "#7201a8"
             ],
             [
              0.3333333333333333,
              "#9c179e"
             ],
             [
              0.4444444444444444,
              "#bd3786"
             ],
             [
              0.5555555555555556,
              "#d8576b"
             ],
             [
              0.6666666666666666,
              "#ed7953"
             ],
             [
              0.7777777777777778,
              "#fb9f3a"
             ],
             [
              0.8888888888888888,
              "#fdca26"
             ],
             [
              1,
              "#f0f921"
             ]
            ],
            "type": "heatmap"
           }
          ],
          "heatmapgl": [
           {
            "colorbar": {
             "outlinewidth": 0,
             "ticks": ""
            },
            "colorscale": [
             [
              0,
              "#0d0887"
             ],
             [
              0.1111111111111111,
              "#46039f"
             ],
             [
              0.2222222222222222,
              "#7201a8"
             ],
             [
              0.3333333333333333,
              "#9c179e"
             ],
             [
              0.4444444444444444,
              "#bd3786"
             ],
             [
              0.5555555555555556,
              "#d8576b"
             ],
             [
              0.6666666666666666,
              "#ed7953"
             ],
             [
              0.7777777777777778,
              "#fb9f3a"
             ],
             [
              0.8888888888888888,
              "#fdca26"
             ],
             [
              1,
              "#f0f921"
             ]
            ],
            "type": "heatmapgl"
           }
          ],
          "histogram": [
           {
            "marker": {
             "pattern": {
              "fillmode": "overlay",
              "size": 10,
              "solidity": 0.2
             }
            },
            "type": "histogram"
           }
          ],
          "histogram2d": [
           {
            "colorbar": {
             "outlinewidth": 0,
             "ticks": ""
            },
            "colorscale": [
             [
              0,
              "#0d0887"
             ],
             [
              0.1111111111111111,
              "#46039f"
             ],
             [
              0.2222222222222222,
              "#7201a8"
             ],
             [
              0.3333333333333333,
              "#9c179e"
             ],
             [
              0.4444444444444444,
              "#bd3786"
             ],
             [
              0.5555555555555556,
              "#d8576b"
             ],
             [
              0.6666666666666666,
              "#ed7953"
             ],
             [
              0.7777777777777778,
              "#fb9f3a"
             ],
             [
              0.8888888888888888,
              "#fdca26"
             ],
             [
              1,
              "#f0f921"
             ]
            ],
            "type": "histogram2d"
           }
          ],
          "histogram2dcontour": [
           {
            "colorbar": {
             "outlinewidth": 0,
             "ticks": ""
            },
            "colorscale": [
             [
              0,
              "#0d0887"
             ],
             [
              0.1111111111111111,
              "#46039f"
             ],
             [
              0.2222222222222222,
              "#7201a8"
             ],
             [
              0.3333333333333333,
              "#9c179e"
             ],
             [
              0.4444444444444444,
              "#bd3786"
             ],
             [
              0.5555555555555556,
              "#d8576b"
             ],
             [
              0.6666666666666666,
              "#ed7953"
             ],
             [
              0.7777777777777778,
              "#fb9f3a"
             ],
             [
              0.8888888888888888,
              "#fdca26"
             ],
             [
              1,
              "#f0f921"
             ]
            ],
            "type": "histogram2dcontour"
           }
          ],
          "mesh3d": [
           {
            "colorbar": {
             "outlinewidth": 0,
             "ticks": ""
            },
            "type": "mesh3d"
           }
          ],
          "parcoords": [
           {
            "line": {
             "colorbar": {
              "outlinewidth": 0,
              "ticks": ""
             }
            },
            "type": "parcoords"
           }
          ],
          "pie": [
           {
            "automargin": true,
            "type": "pie"
           }
          ],
          "scatter": [
           {
            "fillpattern": {
             "fillmode": "overlay",
             "size": 10,
             "solidity": 0.2
            },
            "type": "scatter"
           }
          ],
          "scatter3d": [
           {
            "line": {
             "colorbar": {
              "outlinewidth": 0,
              "ticks": ""
             }
            },
            "marker": {
             "colorbar": {
              "outlinewidth": 0,
              "ticks": ""
             }
            },
            "type": "scatter3d"
           }
          ],
          "scattercarpet": [
           {
            "marker": {
             "colorbar": {
              "outlinewidth": 0,
              "ticks": ""
             }
            },
            "type": "scattercarpet"
           }
          ],
          "scattergeo": [
           {
            "marker": {
             "colorbar": {
              "outlinewidth": 0,
              "ticks": ""
             }
            },
            "type": "scattergeo"
           }
          ],
          "scattergl": [
           {
            "marker": {
             "colorbar": {
              "outlinewidth": 0,
              "ticks": ""
             }
            },
            "type": "scattergl"
           }
          ],
          "scattermapbox": [
           {
            "marker": {
             "colorbar": {
              "outlinewidth": 0,
              "ticks": ""
             }
            },
            "type": "scattermapbox"
           }
          ],
          "scatterpolar": [
           {
            "marker": {
             "colorbar": {
              "outlinewidth": 0,
              "ticks": ""
             }
            },
            "type": "scatterpolar"
           }
          ],
          "scatterpolargl": [
           {
            "marker": {
             "colorbar": {
              "outlinewidth": 0,
              "ticks": ""
             }
            },
            "type": "scatterpolargl"
           }
          ],
          "scatterternary": [
           {
            "marker": {
             "colorbar": {
              "outlinewidth": 0,
              "ticks": ""
             }
            },
            "type": "scatterternary"
           }
          ],
          "surface": [
           {
            "colorbar": {
             "outlinewidth": 0,
             "ticks": ""
            },
            "colorscale": [
             [
              0,
              "#0d0887"
             ],
             [
              0.1111111111111111,
              "#46039f"
             ],
             [
              0.2222222222222222,
              "#7201a8"
             ],
             [
              0.3333333333333333,
              "#9c179e"
             ],
             [
              0.4444444444444444,
              "#bd3786"
             ],
             [
              0.5555555555555556,
              "#d8576b"
             ],
             [
              0.6666666666666666,
              "#ed7953"
             ],
             [
              0.7777777777777778,
              "#fb9f3a"
             ],
             [
              0.8888888888888888,
              "#fdca26"
             ],
             [
              1,
              "#f0f921"
             ]
            ],
            "type": "surface"
           }
          ],
          "table": [
           {
            "cells": {
             "fill": {
              "color": "#EBF0F8"
             },
             "line": {
              "color": "white"
             }
            },
            "header": {
             "fill": {
              "color": "#C8D4E3"
             },
             "line": {
              "color": "white"
             }
            },
            "type": "table"
           }
          ]
         },
         "layout": {
          "annotationdefaults": {
           "arrowcolor": "#2a3f5f",
           "arrowhead": 0,
           "arrowwidth": 1
          },
          "autotypenumbers": "strict",
          "coloraxis": {
           "colorbar": {
            "outlinewidth": 0,
            "ticks": ""
           }
          },
          "colorscale": {
           "diverging": [
            [
             0,
             "#8e0152"
            ],
            [
             0.1,
             "#c51b7d"
            ],
            [
             0.2,
             "#de77ae"
            ],
            [
             0.3,
             "#f1b6da"
            ],
            [
             0.4,
             "#fde0ef"
            ],
            [
             0.5,
             "#f7f7f7"
            ],
            [
             0.6,
             "#e6f5d0"
            ],
            [
             0.7,
             "#b8e186"
            ],
            [
             0.8,
             "#7fbc41"
            ],
            [
             0.9,
             "#4d9221"
            ],
            [
             1,
             "#276419"
            ]
           ],
           "sequential": [
            [
             0,
             "#0d0887"
            ],
            [
             0.1111111111111111,
             "#46039f"
            ],
            [
             0.2222222222222222,
             "#7201a8"
            ],
            [
             0.3333333333333333,
             "#9c179e"
            ],
            [
             0.4444444444444444,
             "#bd3786"
            ],
            [
             0.5555555555555556,
             "#d8576b"
            ],
            [
             0.6666666666666666,
             "#ed7953"
            ],
            [
             0.7777777777777778,
             "#fb9f3a"
            ],
            [
             0.8888888888888888,
             "#fdca26"
            ],
            [
             1,
             "#f0f921"
            ]
           ],
           "sequentialminus": [
            [
             0,
             "#0d0887"
            ],
            [
             0.1111111111111111,
             "#46039f"
            ],
            [
             0.2222222222222222,
             "#7201a8"
            ],
            [
             0.3333333333333333,
             "#9c179e"
            ],
            [
             0.4444444444444444,
             "#bd3786"
            ],
            [
             0.5555555555555556,
             "#d8576b"
            ],
            [
             0.6666666666666666,
             "#ed7953"
            ],
            [
             0.7777777777777778,
             "#fb9f3a"
            ],
            [
             0.8888888888888888,
             "#fdca26"
            ],
            [
             1,
             "#f0f921"
            ]
           ]
          },
          "colorway": [
           "#636efa",
           "#EF553B",
           "#00cc96",
           "#ab63fa",
           "#FFA15A",
           "#19d3f3",
           "#FF6692",
           "#B6E880",
           "#FF97FF",
           "#FECB52"
          ],
          "font": {
           "color": "#2a3f5f"
          },
          "geo": {
           "bgcolor": "white",
           "lakecolor": "white",
           "landcolor": "#E5ECF6",
           "showlakes": true,
           "showland": true,
           "subunitcolor": "white"
          },
          "hoverlabel": {
           "align": "left"
          },
          "hovermode": "closest",
          "mapbox": {
           "style": "light"
          },
          "paper_bgcolor": "white",
          "plot_bgcolor": "#E5ECF6",
          "polar": {
           "angularaxis": {
            "gridcolor": "white",
            "linecolor": "white",
            "ticks": ""
           },
           "bgcolor": "#E5ECF6",
           "radialaxis": {
            "gridcolor": "white",
            "linecolor": "white",
            "ticks": ""
           }
          },
          "scene": {
           "xaxis": {
            "backgroundcolor": "#E5ECF6",
            "gridcolor": "white",
            "gridwidth": 2,
            "linecolor": "white",
            "showbackground": true,
            "ticks": "",
            "zerolinecolor": "white"
           },
           "yaxis": {
            "backgroundcolor": "#E5ECF6",
            "gridcolor": "white",
            "gridwidth": 2,
            "linecolor": "white",
            "showbackground": true,
            "ticks": "",
            "zerolinecolor": "white"
           },
           "zaxis": {
            "backgroundcolor": "#E5ECF6",
            "gridcolor": "white",
            "gridwidth": 2,
            "linecolor": "white",
            "showbackground": true,
            "ticks": "",
            "zerolinecolor": "white"
           }
          },
          "shapedefaults": {
           "line": {
            "color": "#2a3f5f"
           }
          },
          "ternary": {
           "aaxis": {
            "gridcolor": "white",
            "linecolor": "white",
            "ticks": ""
           },
           "baxis": {
            "gridcolor": "white",
            "linecolor": "white",
            "ticks": ""
           },
           "bgcolor": "#E5ECF6",
           "caxis": {
            "gridcolor": "white",
            "linecolor": "white",
            "ticks": ""
           }
          },
          "title": {
           "x": 0.05
          },
          "xaxis": {
           "automargin": true,
           "gridcolor": "white",
           "linecolor": "white",
           "ticks": "",
           "title": {
            "standoff": 15
           },
           "zerolinecolor": "white",
           "zerolinewidth": 2
          },
          "yaxis": {
           "automargin": true,
           "gridcolor": "white",
           "linecolor": "white",
           "ticks": "",
           "title": {
            "standoff": 15
           },
           "zerolinecolor": "white",
           "zerolinewidth": 2
          }
         }
        }
       }
      }
     },
     "metadata": {},
     "output_type": "display_data"
    }
   ],
   "source": [
    "import plotly.graph_objects as go\n",
    "\n",
    "fig3 = go.Figure(data = [go.Pie(labels = ['Count_current', 'Count_avail'], values = np.append(df_sales[df_sales['Event Name'] == 'Sack Sabbath']['Count_current'].values, df_sales[df_sales['Event Name'] == 'Sack Sabbath']['Count_avail'].values), title = 'Current and Available Counts for Sack Sabbath')])\n",
    "fig3.show()"
   ]
  },
  {
   "cell_type": "code",
   "execution_count": null,
   "metadata": {},
   "outputs": [],
   "source": []
  },
  {
   "cell_type": "code",
   "execution_count": 38,
   "metadata": {},
   "outputs": [],
   "source": [
    "\n",
    "def create_price_line_graph(df):\n",
    "    # Group the dataframe by 'Month' and 'Year' and sum up the 'Sum of Price' column\n",
    "    df_sum = df.groupby(['Month', 'Year'])['Sum of Price'].sum().reset_index()\n",
    "\n",
    "    # Create a line graph using plotly.express\n",
    "    fig = px.line(df_sum, x='Month', y='Sum of Price', color='Year')\n",
    "\n",
    "    # Show the graph\n",
    "    fig.show()"
   ]
  },
  {
   "cell_type": "code",
   "execution_count": 41,
   "metadata": {},
   "outputs": [
    {
     "data": {
      "text/html": [
       "<div>\n",
       "<style scoped>\n",
       "    .dataframe tbody tr th:only-of-type {\n",
       "        vertical-align: middle;\n",
       "    }\n",
       "\n",
       "    .dataframe tbody tr th {\n",
       "        vertical-align: top;\n",
       "    }\n",
       "\n",
       "    .dataframe thead th {\n",
       "        text-align: right;\n",
       "    }\n",
       "</style>\n",
       "<table border=\"1\" class=\"dataframe\">\n",
       "  <thead>\n",
       "    <tr style=\"text-align: right;\">\n",
       "      <th></th>\n",
       "      <th>Year</th>\n",
       "      <th>Month</th>\n",
       "      <th>Sum of Price</th>\n",
       "      <th>Year-Month</th>\n",
       "    </tr>\n",
       "  </thead>\n",
       "  <tbody>\n",
       "    <tr>\n",
       "      <th>0</th>\n",
       "      <td>2015</td>\n",
       "      <td>1</td>\n",
       "      <td>23910.50</td>\n",
       "      <td>2015-1</td>\n",
       "    </tr>\n",
       "    <tr>\n",
       "      <th>1</th>\n",
       "      <td>2015</td>\n",
       "      <td>2</td>\n",
       "      <td>26996.22</td>\n",
       "      <td>2015-2</td>\n",
       "    </tr>\n",
       "    <tr>\n",
       "      <th>2</th>\n",
       "      <td>2015</td>\n",
       "      <td>3</td>\n",
       "      <td>26073.50</td>\n",
       "      <td>2015-3</td>\n",
       "    </tr>\n",
       "    <tr>\n",
       "      <th>3</th>\n",
       "      <td>2015</td>\n",
       "      <td>4</td>\n",
       "      <td>37244.00</td>\n",
       "      <td>2015-4</td>\n",
       "    </tr>\n",
       "    <tr>\n",
       "      <th>4</th>\n",
       "      <td>2015</td>\n",
       "      <td>5</td>\n",
       "      <td>37439.04</td>\n",
       "      <td>2015-5</td>\n",
       "    </tr>\n",
       "  </tbody>\n",
       "</table>\n",
       "</div>"
      ],
      "text/plain": [
       "   Year  Month  Sum of Price Year-Month\n",
       "0  2015      1      23910.50     2015-1\n",
       "1  2015      2      26996.22     2015-2\n",
       "2  2015      3      26073.50     2015-3\n",
       "3  2015      4      37244.00     2015-4\n",
       "4  2015      5      37439.04     2015-5"
      ]
     },
     "execution_count": 41,
     "metadata": {},
     "output_type": "execute_result"
    }
   ],
   "source": [
    "df_sum = df.groupby(['Year', 'Month'])['Sum of Price'].sum().reset_index()\n",
    "df_sum['Year-Month'] = df_sum['Year'].astype(str) + '-' + df_sum['Month'].astype(str)\n",
    "df_sum.head()\n",
    "#     # Create a line graph using plotly.express\n",
    "# fig = px.line(df_sum, x='Month', y='Sum of Price', color='Year')\n",
    "\n",
    "#     # Show the graph\n",
    "# fig.show()"
   ]
  },
  {
   "cell_type": "markdown",
   "metadata": {},
   "source": [
    "Line graph (basic overall) \n",
    "Line (might wanna do colors in the future) \n"
   ]
  },
  {
   "cell_type": "code",
   "execution_count": 130,
   "metadata": {},
   "outputs": [
    {
     "ename": "NameError",
     "evalue": "name 'df_filtered' is not defined",
     "output_type": "error",
     "traceback": [
      "\u001b[1;31m---------------------------------------------------------------------------\u001b[0m",
      "\u001b[1;31mNameError\u001b[0m                                 Traceback (most recent call last)",
      "Cell \u001b[1;32mIn[130], line 1\u001b[0m\n\u001b[1;32m----> 1\u001b[0m \u001b[43mdf_filtered\u001b[49m\n",
      "\u001b[1;31mNameError\u001b[0m: name 'df_filtered' is not defined"
     ]
    }
   ],
   "source": [
    "df_filtered"
   ]
  },
  {
   "cell_type": "code",
   "execution_count": 173,
   "metadata": {},
   "outputs": [],
   "source": [
    "import os\n",
    "\n",
    "df = pd.read_csv('./raw/EventSalesReportDetailed-2024-04-26T13_45_32.csv')"
   ]
  },
  {
   "cell_type": "code",
   "execution_count": 174,
   "metadata": {},
   "outputs": [],
   "source": [
    "df['Event Date/Time'] = pd.to_datetime(df['Event Date/Time'], format = '%d/%m/%Y %H:%M')\n",
    "df['Event Date'] = df['Event Date/Time'].dt.date\n",
    "df['Year'] = df['Event Date/Time'].dt.year\n",
    "df['Month'] = df['Event Date/Time'].dt.month\n",
    "current_time = datetime.now()\n",
    "df_filtered = df[df['Event Date/Time'] >= current_time]"
   ]
  },
  {
   "cell_type": "code",
   "execution_count": 176,
   "metadata": {},
   "outputs": [
    {
     "data": {
      "text/html": [
       "<div>\n",
       "<style scoped>\n",
       "    .dataframe tbody tr th:only-of-type {\n",
       "        vertical-align: middle;\n",
       "    }\n",
       "\n",
       "    .dataframe tbody tr th {\n",
       "        vertical-align: top;\n",
       "    }\n",
       "\n",
       "    .dataframe thead th {\n",
       "        text-align: right;\n",
       "    }\n",
       "</style>\n",
       "<table border=\"1\" class=\"dataframe\">\n",
       "  <thead>\n",
       "    <tr style=\"text-align: right;\">\n",
       "      <th></th>\n",
       "      <th>Event Name</th>\n",
       "      <th>Event Date/Time</th>\n",
       "      <th>Is Comp</th>\n",
       "      <th>Seat Status</th>\n",
       "      <th>Ticket Type</th>\n",
       "      <th>Ticket Band</th>\n",
       "      <th>Lock Type</th>\n",
       "      <th>Sales Channel</th>\n",
       "      <th>User Confirmed</th>\n",
       "      <th>Price Overridden</th>\n",
       "      <th>Area</th>\n",
       "      <th>Sum of Price</th>\n",
       "      <th>Sum of Gross Value</th>\n",
       "      <th>Count</th>\n",
       "      <th>Event Date</th>\n",
       "      <th>Year</th>\n",
       "      <th>Month</th>\n",
       "    </tr>\n",
       "  </thead>\n",
       "  <tbody>\n",
       "    <tr>\n",
       "      <th>0</th>\n",
       "      <td>A Band Called Malice</td>\n",
       "      <td>2024-04-06 19:00:00</td>\n",
       "      <td>NaN</td>\n",
       "      <td>Locked</td>\n",
       "      <td>NaN</td>\n",
       "      <td>NaN</td>\n",
       "      <td>General</td>\n",
       "      <td>NaN</td>\n",
       "      <td>NaN</td>\n",
       "      <td>NaN</td>\n",
       "      <td>The Tree House</td>\n",
       "      <td>NaN</td>\n",
       "      <td>660.0</td>\n",
       "      <td>40</td>\n",
       "      <td>2024-04-06</td>\n",
       "      <td>2024</td>\n",
       "      <td>4</td>\n",
       "    </tr>\n",
       "    <tr>\n",
       "      <th>1</th>\n",
       "      <td>A Band Called Malice</td>\n",
       "      <td>2024-04-06 19:00:00</td>\n",
       "      <td>0.0</td>\n",
       "      <td>Sold</td>\n",
       "      <td>Full Price</td>\n",
       "      <td>Price band A</td>\n",
       "      <td>NaN</td>\n",
       "      <td>Counter</td>\n",
       "      <td>georgie.rose</td>\n",
       "      <td>False</td>\n",
       "      <td>The Tree House</td>\n",
       "      <td>49.5</td>\n",
       "      <td>49.5</td>\n",
       "      <td>3</td>\n",
       "      <td>2024-04-06</td>\n",
       "      <td>2024</td>\n",
       "      <td>4</td>\n",
       "    </tr>\n",
       "    <tr>\n",
       "      <th>2</th>\n",
       "      <td>A Band Called Malice</td>\n",
       "      <td>2024-04-06 19:00:00</td>\n",
       "      <td>0.0</td>\n",
       "      <td>Sold</td>\n",
       "      <td>Full Price</td>\n",
       "      <td>Price band A</td>\n",
       "      <td>NaN</td>\n",
       "      <td>Counter</td>\n",
       "      <td>jayne.chappell</td>\n",
       "      <td>False</td>\n",
       "      <td>The Tree House</td>\n",
       "      <td>66.0</td>\n",
       "      <td>66.0</td>\n",
       "      <td>4</td>\n",
       "      <td>2024-04-06</td>\n",
       "      <td>2024</td>\n",
       "      <td>4</td>\n",
       "    </tr>\n",
       "    <tr>\n",
       "      <th>3</th>\n",
       "      <td>A Band Called Malice</td>\n",
       "      <td>2024-04-06 19:00:00</td>\n",
       "      <td>0.0</td>\n",
       "      <td>Sold</td>\n",
       "      <td>Full Price</td>\n",
       "      <td>Price band A</td>\n",
       "      <td>NaN</td>\n",
       "      <td>Counter</td>\n",
       "      <td>katina.kilkelly</td>\n",
       "      <td>False</td>\n",
       "      <td>The Tree House</td>\n",
       "      <td>49.5</td>\n",
       "      <td>49.5</td>\n",
       "      <td>3</td>\n",
       "      <td>2024-04-06</td>\n",
       "      <td>2024</td>\n",
       "      <td>4</td>\n",
       "    </tr>\n",
       "    <tr>\n",
       "      <th>4</th>\n",
       "      <td>A Band Called Malice</td>\n",
       "      <td>2024-04-06 19:00:00</td>\n",
       "      <td>0.0</td>\n",
       "      <td>Sold</td>\n",
       "      <td>Full Price</td>\n",
       "      <td>Price band A</td>\n",
       "      <td>NaN</td>\n",
       "      <td>Counter</td>\n",
       "      <td>Lou.Payne</td>\n",
       "      <td>False</td>\n",
       "      <td>The Tree House</td>\n",
       "      <td>33.0</td>\n",
       "      <td>33.0</td>\n",
       "      <td>2</td>\n",
       "      <td>2024-04-06</td>\n",
       "      <td>2024</td>\n",
       "      <td>4</td>\n",
       "    </tr>\n",
       "    <tr>\n",
       "      <th>...</th>\n",
       "      <td>...</td>\n",
       "      <td>...</td>\n",
       "      <td>...</td>\n",
       "      <td>...</td>\n",
       "      <td>...</td>\n",
       "      <td>...</td>\n",
       "      <td>...</td>\n",
       "      <td>...</td>\n",
       "      <td>...</td>\n",
       "      <td>...</td>\n",
       "      <td>...</td>\n",
       "      <td>...</td>\n",
       "      <td>...</td>\n",
       "      <td>...</td>\n",
       "      <td>...</td>\n",
       "      <td>...</td>\n",
       "      <td>...</td>\n",
       "    </tr>\n",
       "    <tr>\n",
       "      <th>766</th>\n",
       "      <td>Wham!Duran</td>\n",
       "      <td>2024-04-12 19:30:00</td>\n",
       "      <td>0.0</td>\n",
       "      <td>Sold</td>\n",
       "      <td>Full Price</td>\n",
       "      <td>Price band A</td>\n",
       "      <td>NaN</td>\n",
       "      <td>Counter</td>\n",
       "      <td>olivia.dimery</td>\n",
       "      <td>False</td>\n",
       "      <td>Cheese &amp; Grain Standing</td>\n",
       "      <td>210.0</td>\n",
       "      <td>210.0</td>\n",
       "      <td>12</td>\n",
       "      <td>2024-04-12</td>\n",
       "      <td>2024</td>\n",
       "      <td>4</td>\n",
       "    </tr>\n",
       "    <tr>\n",
       "      <th>767</th>\n",
       "      <td>Wham!Duran</td>\n",
       "      <td>2024-04-12 19:30:00</td>\n",
       "      <td>0.0</td>\n",
       "      <td>Sold</td>\n",
       "      <td>Full Price</td>\n",
       "      <td>Price band A</td>\n",
       "      <td>NaN</td>\n",
       "      <td>Phone</td>\n",
       "      <td>katina.kilkelly</td>\n",
       "      <td>False</td>\n",
       "      <td>Cheese &amp; Grain Standing</td>\n",
       "      <td>105.0</td>\n",
       "      <td>105.0</td>\n",
       "      <td>6</td>\n",
       "      <td>2024-04-12</td>\n",
       "      <td>2024</td>\n",
       "      <td>4</td>\n",
       "    </tr>\n",
       "    <tr>\n",
       "      <th>768</th>\n",
       "      <td>Wham!Duran</td>\n",
       "      <td>2024-04-12 19:30:00</td>\n",
       "      <td>0.0</td>\n",
       "      <td>Sold</td>\n",
       "      <td>Full Price</td>\n",
       "      <td>Price band A</td>\n",
       "      <td>NaN</td>\n",
       "      <td>Web</td>\n",
       "      <td>web</td>\n",
       "      <td>False</td>\n",
       "      <td>Cheese &amp; Grain Standing</td>\n",
       "      <td>5022.5</td>\n",
       "      <td>5022.5</td>\n",
       "      <td>287</td>\n",
       "      <td>2024-04-12</td>\n",
       "      <td>2024</td>\n",
       "      <td>4</td>\n",
       "    </tr>\n",
       "    <tr>\n",
       "      <th>769</th>\n",
       "      <td>Wham!Duran</td>\n",
       "      <td>2024-04-12 19:30:00</td>\n",
       "      <td>1.0</td>\n",
       "      <td>Sold</td>\n",
       "      <td>Comp</td>\n",
       "      <td>Price band A</td>\n",
       "      <td>NaN</td>\n",
       "      <td>Counter</td>\n",
       "      <td>katina.kilkelly</td>\n",
       "      <td>False</td>\n",
       "      <td>Cheese &amp; Grain Standing</td>\n",
       "      <td>0.0</td>\n",
       "      <td>17.5</td>\n",
       "      <td>1</td>\n",
       "      <td>2024-04-12</td>\n",
       "      <td>2024</td>\n",
       "      <td>4</td>\n",
       "    </tr>\n",
       "    <tr>\n",
       "      <th>770</th>\n",
       "      <td>Wham!Duran</td>\n",
       "      <td>2024-04-12 19:30:00</td>\n",
       "      <td>1.0</td>\n",
       "      <td>Sold</td>\n",
       "      <td>Comp</td>\n",
       "      <td>Price band A</td>\n",
       "      <td>NaN</td>\n",
       "      <td>Counter</td>\n",
       "      <td>olivia.dimery</td>\n",
       "      <td>False</td>\n",
       "      <td>Cheese &amp; Grain Standing</td>\n",
       "      <td>0.0</td>\n",
       "      <td>17.5</td>\n",
       "      <td>1</td>\n",
       "      <td>2024-04-12</td>\n",
       "      <td>2024</td>\n",
       "      <td>4</td>\n",
       "    </tr>\n",
       "  </tbody>\n",
       "</table>\n",
       "<p>771 rows × 17 columns</p>\n",
       "</div>"
      ],
      "text/plain": [
       "               Event Name     Event Date/Time  Is Comp Seat Status  \\\n",
       "0    A Band Called Malice 2024-04-06 19:00:00      NaN      Locked   \n",
       "1    A Band Called Malice 2024-04-06 19:00:00      0.0        Sold   \n",
       "2    A Band Called Malice 2024-04-06 19:00:00      0.0        Sold   \n",
       "3    A Band Called Malice 2024-04-06 19:00:00      0.0        Sold   \n",
       "4    A Band Called Malice 2024-04-06 19:00:00      0.0        Sold   \n",
       "..                    ...                 ...      ...         ...   \n",
       "766            Wham!Duran 2024-04-12 19:30:00      0.0        Sold   \n",
       "767            Wham!Duran 2024-04-12 19:30:00      0.0        Sold   \n",
       "768            Wham!Duran 2024-04-12 19:30:00      0.0        Sold   \n",
       "769            Wham!Duran 2024-04-12 19:30:00      1.0        Sold   \n",
       "770            Wham!Duran 2024-04-12 19:30:00      1.0        Sold   \n",
       "\n",
       "    Ticket Type   Ticket Band Lock Type Sales Channel   User Confirmed  \\\n",
       "0           NaN           NaN   General           NaN              NaN   \n",
       "1    Full Price  Price band A       NaN       Counter     georgie.rose   \n",
       "2    Full Price  Price band A       NaN       Counter   jayne.chappell   \n",
       "3    Full Price  Price band A       NaN       Counter  katina.kilkelly   \n",
       "4    Full Price  Price band A       NaN       Counter        Lou.Payne   \n",
       "..          ...           ...       ...           ...              ...   \n",
       "766  Full Price  Price band A       NaN       Counter    olivia.dimery   \n",
       "767  Full Price  Price band A       NaN         Phone  katina.kilkelly   \n",
       "768  Full Price  Price band A       NaN           Web              web   \n",
       "769        Comp  Price band A       NaN       Counter  katina.kilkelly   \n",
       "770        Comp  Price band A       NaN       Counter    olivia.dimery   \n",
       "\n",
       "    Price Overridden                      Area  Sum of Price  \\\n",
       "0                NaN            The Tree House           NaN   \n",
       "1              False            The Tree House          49.5   \n",
       "2              False            The Tree House          66.0   \n",
       "3              False            The Tree House          49.5   \n",
       "4              False            The Tree House          33.0   \n",
       "..               ...                       ...           ...   \n",
       "766            False  Cheese & Grain Standing          210.0   \n",
       "767            False  Cheese & Grain Standing          105.0   \n",
       "768            False  Cheese & Grain Standing         5022.5   \n",
       "769            False  Cheese & Grain Standing            0.0   \n",
       "770            False  Cheese & Grain Standing            0.0   \n",
       "\n",
       "     Sum of Gross Value  Count  Event Date  Year  Month  \n",
       "0                 660.0     40  2024-04-06  2024      4  \n",
       "1                  49.5      3  2024-04-06  2024      4  \n",
       "2                  66.0      4  2024-04-06  2024      4  \n",
       "3                  49.5      3  2024-04-06  2024      4  \n",
       "4                  33.0      2  2024-04-06  2024      4  \n",
       "..                  ...    ...         ...   ...    ...  \n",
       "766               210.0     12  2024-04-12  2024      4  \n",
       "767               105.0      6  2024-04-12  2024      4  \n",
       "768              5022.5    287  2024-04-12  2024      4  \n",
       "769                17.5      1  2024-04-12  2024      4  \n",
       "770                17.5      1  2024-04-12  2024      4  \n",
       "\n",
       "[771 rows x 17 columns]"
      ]
     },
     "execution_count": 176,
     "metadata": {},
     "output_type": "execute_result"
    }
   ],
   "source": [
    "df"
   ]
  },
  {
   "cell_type": "code",
   "execution_count": 172,
   "metadata": {},
   "outputs": [
    {
     "data": {
      "text/html": [
       "<div>\n",
       "<style scoped>\n",
       "    .dataframe tbody tr th:only-of-type {\n",
       "        vertical-align: middle;\n",
       "    }\n",
       "\n",
       "    .dataframe tbody tr th {\n",
       "        vertical-align: top;\n",
       "    }\n",
       "\n",
       "    .dataframe thead th {\n",
       "        text-align: right;\n",
       "    }\n",
       "</style>\n",
       "<table border=\"1\" class=\"dataframe\">\n",
       "  <thead>\n",
       "    <tr style=\"text-align: right;\">\n",
       "      <th></th>\n",
       "      <th>Event Name</th>\n",
       "      <th>Event Date/Time</th>\n",
       "      <th>Is Comp</th>\n",
       "      <th>Seat Status</th>\n",
       "      <th>Ticket Type</th>\n",
       "      <th>Ticket Band</th>\n",
       "      <th>Lock Type</th>\n",
       "      <th>Sales Channel</th>\n",
       "      <th>User Confirmed</th>\n",
       "      <th>Price Overridden</th>\n",
       "      <th>Area</th>\n",
       "      <th>Sum of Price</th>\n",
       "      <th>Sum of Gross Value</th>\n",
       "      <th>Count</th>\n",
       "      <th>Event Date</th>\n",
       "      <th>Year</th>\n",
       "      <th>Month</th>\n",
       "    </tr>\n",
       "  </thead>\n",
       "  <tbody>\n",
       "  </tbody>\n",
       "</table>\n",
       "</div>"
      ],
      "text/plain": [
       "Empty DataFrame\n",
       "Columns: [Event Name, Event Date/Time, Is Comp, Seat Status, Ticket Type, Ticket Band, Lock Type, Sales Channel, User Confirmed, Price Overridden, Area, Sum of Price, Sum of Gross Value, Count, Event Date, Year, Month]\n",
       "Index: []"
      ]
     },
     "execution_count": 172,
     "metadata": {},
     "output_type": "execute_result"
    }
   ],
   "source": [
    "df_future = df[(df['Event Date/Time'])>=datetime.now()]\n",
    "df_max = df_future[df_future['Seat Status'] !='Locked']\n",
    "df_current = df_future[df_future['Seat Status'] =='Sold']\n",
    "\n",
    "df_current = df_current.groupby(['Event Date/Time', 'Event Name']).agg({'Count': 'sum'}).reset_index()\n",
    "df_max = df_max.groupby(['Event Date/Time', 'Event Name']).agg({'Count': 'sum'}).reset_index()\n",
    "\n",
    "df_filtered"
   ]
  },
  {
   "cell_type": "code",
   "execution_count": 169,
   "metadata": {},
   "outputs": [
    {
     "data": {
      "text/html": [
       "<div>\n",
       "<style scoped>\n",
       "    .dataframe tbody tr th:only-of-type {\n",
       "        vertical-align: middle;\n",
       "    }\n",
       "\n",
       "    .dataframe tbody tr th {\n",
       "        vertical-align: top;\n",
       "    }\n",
       "\n",
       "    .dataframe thead th {\n",
       "        text-align: right;\n",
       "    }\n",
       "</style>\n",
       "<table border=\"1\" class=\"dataframe\">\n",
       "  <thead>\n",
       "    <tr style=\"text-align: right;\">\n",
       "      <th></th>\n",
       "      <th>Count_max</th>\n",
       "      <th>Event Date/Time</th>\n",
       "      <th>Event Name</th>\n",
       "      <th>Count_current</th>\n",
       "      <th>Count_avail</th>\n",
       "      <th>Percent_sold</th>\n",
       "      <th>Percent_avail</th>\n",
       "      <th>Event Name-Date</th>\n",
       "    </tr>\n",
       "  </thead>\n",
       "  <tbody>\n",
       "  </tbody>\n",
       "</table>\n",
       "</div>"
      ],
      "text/plain": [
       "Empty DataFrame\n",
       "Columns: [Count_max, Event Date/Time, Event Name, Count_current, Count_avail, Percent_sold, Percent_avail, Event Name-Date]\n",
       "Index: []"
      ]
     },
     "execution_count": 169,
     "metadata": {},
     "output_type": "execute_result"
    }
   ],
   "source": [
    "\n",
    "df_sales = pd.merge(df_max,df_current, on = ['Event Date/Time', 'Event Name'], suffixes = ('_max', '_current'))\n",
    "df_sales['Count_avail'] = df_sales['Count_max'] - df_sales['Count_current']\n",
    "df_sales['Percent_sold'] = df_sales['Count_current'] / df_sales['Count_max']\n",
    "df_sales['Percent_avail'] = df_sales['Count_avail'] / df_sales['Count_max']\n",
    "df_sales['Event Name-Date'] = df_sales['Event Name'] + df_sales['Event Date/Time'].dt.strftime(' (%Y-%m-%d %H:%M)')\n",
    "df_sales.drop_duplicates(subset = ['Event Name'], inplace = True)"
   ]
  }
 ],
 "metadata": {
  "kernelspec": {
   "display_name": "Python 3",
   "language": "python",
   "name": "python3"
  },
  "language_info": {
   "codemirror_mode": {
    "name": "ipython",
    "version": 3
   },
   "file_extension": ".py",
   "mimetype": "text/x-python",
   "name": "python",
   "nbconvert_exporter": "python",
   "pygments_lexer": "ipython3",
   "version": "3.10.11"
  }
 },
 "nbformat": 4,
 "nbformat_minor": 2
}
